{
 "cells": [
  {
   "cell_type": "code",
   "execution_count": 1,
   "metadata": {},
   "outputs": [],
   "source": [
    "import os\n",
    "import numpy as np\n",
    "import pandas as pd\n",
    "\n",
    "from random import randint\n",
    "\n",
    "from imblearn.pipeline import make_pipeline as imb_make_pipeline\n",
    "from imblearn.under_sampling import RandomUnderSampler\n",
    "from imblearn.over_sampling import RandomOverSampler, SMOTE, ADASYN\n",
    "from imblearn.ensemble import BalancedBaggingClassifier, BalancedRandomForestClassifier, EasyEnsembleClassifier, RUSBoostClassifier\n",
    "from imblearn.metrics import classification_report_imbalanced\n",
    "\n",
    "from sklearn.pipeline import make_pipeline\n",
    "\n",
    "from sklearn.preprocessing import StandardScaler, OneHotEncoder\n",
    "\n",
    "from sklearn.experimental import enable_iterative_imputer\n",
    "from sklearn.impute import IterativeImputer\n",
    "\n",
    "from sklearn.model_selection import train_test_split, cross_validate\n",
    "\n",
    "from sklearn.dummy import DummyClassifier\n",
    "from sklearn.linear_model import LogisticRegression\n",
    "from sklearn.tree import DecisionTreeClassifier\n",
    "from sklearn.ensemble import RandomForestClassifier\n",
    "from sklearn.neural_network import MLPClassifier\n",
    "\n",
    "from sklearn.metrics import make_scorer, precision_score, recall_score, roc_auc_score\n",
    "\n",
    "from joblib import dump\n",
    "\n",
    "import warnings\n",
    "warnings.filterwarnings('ignore')"
   ]
  },
  {
   "cell_type": "code",
   "execution_count": 2,
   "metadata": {},
   "outputs": [],
   "source": [
    "file_path = os.path.join(\"clean_student_data.csv\")\n",
    "\n",
    "df = pd.read_csv(file_path, index_col=\"STU_ID\")"
   ]
  },
  {
   "cell_type": "markdown",
   "metadata": {},
   "source": [
    "# EDA"
   ]
  },
  {
   "cell_type": "code",
   "execution_count": 3,
   "metadata": {},
   "outputs": [
    {
     "data": {
      "text/plain": [
       "BYSEX       int64\n",
       "BYRACE      int64\n",
       "BYSTLANG    int64\n",
       "BYPARED     int64\n",
       "BYINCOME    int64\n",
       "BYURBAN     int64\n",
       "BYREGION    int64\n",
       "BYRISKFC    int64\n",
       "BYS34A      int64\n",
       "BYS34B      int64\n",
       "BYWRKHRS    int64\n",
       "BYS42       int64\n",
       "BYS43       int64\n",
       "BYTVVIGM    int64\n",
       "BYS46B      int64\n",
       "BYS44C      int64\n",
       "BYS20E      int64\n",
       "BYS87C      int64\n",
       "BYS20D      int64\n",
       "BYS23C      int64\n",
       "BYS37       int64\n",
       "BYS27I      int64\n",
       "BYS90D      int64\n",
       "BYS38A      int64\n",
       "BYS20J      int64\n",
       "BYS24C      int64\n",
       "BYS24D      int64\n",
       "BYS54I      int64\n",
       "BYS84D      int64\n",
       "BYS84I      int64\n",
       "BYS85A      int64\n",
       "F2HSSTAT    int64\n",
       "F2EVERDO    int64\n",
       "F1RGPP2     int64\n",
       "dtype: object"
      ]
     },
     "execution_count": 3,
     "metadata": {},
     "output_type": "execute_result"
    }
   ],
   "source": [
    "df.dtypes"
   ]
  },
  {
   "cell_type": "code",
   "execution_count": 4,
   "metadata": {},
   "outputs": [
    {
     "name": "stdout",
     "output_type": "stream",
     "text": [
      " 0    7095\n",
      " 1    6994\n",
      "-1     707\n",
      "Name: BYSEX, dtype: int64\n",
      " 1    8058\n",
      " 0    5923\n",
      "-1     815\n",
      "Name: BYRACE, dtype: int64\n",
      " 1    11638\n",
      " 0     2343\n",
      "-1      815\n",
      "Name: BYSTLANG, dtype: int64\n",
      " 1    13207\n",
      " 0      841\n",
      "-1      748\n",
      "Name: BYPARED, dtype: int64\n",
      "1    11760\n",
      "0     3036\n",
      "Name: BYINCOME, dtype: int64\n",
      "0    12115\n",
      "1     2681\n",
      "Name: BYURBAN, dtype: int64\n",
      "3    5364\n",
      "2    3749\n",
      "4    3143\n",
      "1    2540\n",
      "Name: BYREGION, dtype: int64\n",
      " 1    6382\n",
      " 0    4695\n",
      "-1    3719\n",
      "Name: BYRISKFC, dtype: int64\n",
      " 1    11351\n",
      "-1     1310\n",
      " 2     1263\n",
      " 0      872\n",
      "Name: BYS34A, dtype: int64\n",
      " 1    10428\n",
      " 2     2276\n",
      "-1     1197\n",
      " 0      895\n",
      "Name: BYS34B, dtype: int64\n",
      " 0    7396\n",
      " 1    4192\n",
      "-1    3208\n",
      "Name: BYWRKHRS, dtype: int64\n",
      " 1    6367\n",
      " 0    4724\n",
      " 2    2212\n",
      "-1    1493\n",
      "Name: BYS42, dtype: int64\n",
      " 1    9137\n",
      " 0    3692\n",
      "-1    1393\n",
      " 2     574\n",
      "Name: BYS43, dtype: int64\n",
      " 0    7892\n",
      " 1    3590\n",
      "-1    3314\n",
      "Name: BYTVVIGM, dtype: int64\n",
      " 0    10321\n",
      " 1     2600\n",
      "-1     1875\n",
      "Name: BYS46B, dtype: int64\n",
      " 1    8836\n",
      " 2    2669\n",
      "-1    1718\n",
      " 3    1348\n",
      " 4     225\n",
      "Name: BYS44C, dtype: int64\n",
      " 2    8898\n",
      " 1    2037\n",
      " 3    1902\n",
      "-1    1549\n",
      " 4     410\n",
      "Name: BYS20E, dtype: int64\n",
      " 3    5009\n",
      "-1    3999\n",
      " 2    2909\n",
      " 4    2110\n",
      " 1     769\n",
      "Name: BYS87C, dtype: int64\n",
      " 2    7149\n",
      " 3    3292\n",
      " 1    2541\n",
      "-1    1475\n",
      " 4     339\n",
      "Name: BYS20D, dtype: int64\n",
      " 0    6707\n",
      " 1    6644\n",
      "-1    1445\n",
      "Name: BYS23C, dtype: int64\n",
      " 4    7256\n",
      " 3    4816\n",
      " 2    1514\n",
      "-1    1041\n",
      " 1     169\n",
      "Name: BYS37, dtype: int64\n",
      " 1    7182\n",
      " 2    5330\n",
      "-1    1448\n",
      " 3     639\n",
      " 4     197\n",
      "Name: BYS27I, dtype: int64\n",
      " 3    5004\n",
      "-1    4941\n",
      " 2    4308\n",
      " 1     543\n",
      "Name: BYS90D, dtype: int64\n",
      " 1    6941\n",
      " 2    4056\n",
      "-1    1543\n",
      " 4    1286\n",
      " 3     970\n",
      "Name: BYS38A, dtype: int64\n",
      " 3    6339\n",
      " 4    5485\n",
      "-1    1545\n",
      " 2    1082\n",
      " 1     345\n",
      "Name: BYS20J, dtype: int64\n",
      " 2    4876\n",
      " 3    4294\n",
      " 1    2074\n",
      "-1    1559\n",
      " 4    1077\n",
      " 5     916\n",
      "Name: BYS24C, dtype: int64\n",
      " 1    7530\n",
      " 2    4128\n",
      "-1    1476\n",
      " 3    1022\n",
      " 5     350\n",
      " 4     290\n",
      "Name: BYS24D, dtype: int64\n",
      " 1    6056\n",
      " 2    4577\n",
      " 3    2729\n",
      "-1    1434\n",
      "Name: BYS54I, dtype: int64\n",
      " 1    10240\n",
      "-1     2446\n",
      " 0     2110\n",
      "Name: BYS84D, dtype: int64\n",
      " 1    10642\n",
      "-1     2516\n",
      " 0     1638\n",
      "Name: BYS84I, dtype: int64\n",
      " 4    4194\n",
      " 3    3499\n",
      "-1    2828\n",
      " 2    2556\n",
      " 1    1719\n",
      "Name: BYS85A, dtype: int64\n",
      "1    13887\n",
      "0      909\n",
      "Name: F2HSSTAT, dtype: int64\n",
      "0    13286\n",
      "1     1510\n",
      "Name: F2EVERDO, dtype: int64\n",
      "2    6475\n",
      "1    4624\n",
      "3    2659\n",
      "0    1038\n",
      "Name: F1RGPP2, dtype: int64\n"
     ]
    }
   ],
   "source": [
    "for col in df.columns:\n",
    "    print(df[col].value_counts())"
   ]
  },
  {
   "cell_type": "markdown",
   "metadata": {},
   "source": [
    "# Create X and y arrays"
   ]
  },
  {
   "cell_type": "code",
   "execution_count": 5,
   "metadata": {},
   "outputs": [],
   "source": [
    "X = df[[column for column in df.columns if column not in [\"F2HSSTAT\", \"F2EVERDO\", \"F1RGPP2\"]]]\n",
    "\n",
    "y_graduate = df[\"F2HSSTAT\"]\n",
    "y_dropout = df[\"F2EVERDO\"]\n",
    "y_gpa = df[\"F1RGPP2\"]\n",
    "\n",
    "all_y = {\n",
    "    \"y_graduate\": y_graduate,\n",
    "    \"y_dropout\": y_dropout,\n",
    "    \"y_gpa\": y_gpa\n",
    "}"
   ]
  },
  {
   "cell_type": "markdown",
   "metadata": {},
   "source": [
    "# Create the pipeline for categorical data"
   ]
  },
  {
   "cell_type": "code",
   "execution_count": 6,
   "metadata": {},
   "outputs": [],
   "source": [
    "categorical_features = [column for column in df.columns if column not in [\"F2HSSTAT\", \"F2EVERDO\", \"F1RGPP2\"]]\n",
    "categorical_transformer = make_pipeline(\n",
    "    IterativeImputer(estimator=RandomForestClassifier(), missing_values=-1),\n",
    "    OneHotEncoder(drop=\"first\", sparse=False)\n",
    ")"
   ]
  },
  {
   "cell_type": "markdown",
   "metadata": {},
   "source": [
    "# Set Up Train-Test-Split Variables and Imbalanced Learn Models"
   ]
  },
  {
   "cell_type": "code",
   "execution_count": 7,
   "metadata": {},
   "outputs": [],
   "source": [
    "random_int = randint(0, 1000000)\n",
    "\n",
    "X_train, X_test, y_graduate_train, y_graduate_test = train_test_split(X, y_graduate, test_size=0.2, random_state=random_int, stratify=y_graduate)\n",
    "X_train, X_test, y_dropout_train, y_dropout_test = train_test_split(X, y_dropout, test_size=0.2, random_state=random_int, stratify=y_dropout)\n",
    "X_train, X_test, y_gpa_train, y_gpa_test = train_test_split(X, y_gpa, test_size=0.2, random_state=random_int, stratify=y_gpa)\n",
    "\n",
    "imb_models = {\n",
    "    \"RandomUnderSampler\": RandomUnderSampler(),\n",
    "    \"RandomOverSampler\": RandomOverSampler(),\n",
    "    \"SMOTE\": SMOTE(),\n",
    "    \"ADASYN\": ADASYN()\n",
    "}"
   ]
  },
  {
   "cell_type": "markdown",
   "metadata": {},
   "source": [
    "## Functions to fit and predict models and return report"
   ]
  },
  {
   "cell_type": "code",
   "execution_count": 8,
   "metadata": {},
   "outputs": [],
   "source": [
    "bar_length = 82\n",
    "\n",
    "def train_and_score_model_tts(clf, X_train, X_test, y_train, y_test):\n",
    "\n",
    "    clf.fit(X_train, y_train)\n",
    "    \n",
    "    y_pred = clf.predict(X_test)\n",
    "    report = classification_report_imbalanced(y_test, y_pred)\n",
    "    \n",
    "    return report\n",
    "\n",
    "\n",
    "def print_report(model, all_y, X=None):\n",
    "    \n",
    "    for y in all_y:\n",
    "        print(\"=\" * bar_length, \"\\n\", y)\n",
    "        report = train_and_score_model_tts(model, X_train, X_test, eval(y + \"_train\"), eval(y + \"_test\"))\n",
    "        print(report)\n",
    "        \n",
    "        model.fit(X_train, eval(y + \"_train\"))\n",
    "        y_prob = model.predict_proba(X_test)\n",
    "        if y != \"y_gpa\":\n",
    "            y_prob = [prob[1] for prob in y_prob]\n",
    "\n",
    "        weighted_roc_auc_ovr = roc_auc_score(eval(y + \"_test\"), y_prob, multi_class=\"ovr\", average=\"weighted\")\n",
    "        print(\"One-vs-Rest ROC AUC score: {:.6f} (weighted by prevalence)\".format(weighted_roc_auc_ovr))\n",
    "        \n",
    "    print(\"=\" * bar_length)\n",
    "    \n",
    "    \n",
    "def print_imb_report(imb_model, clf, all_y, reporter=print_report, X=None):\n",
    "    print(\"=\" * bar_length)\n",
    "    print(imb_model)\n",
    "    reporter(clf, all_y, X)"
   ]
  },
  {
   "cell_type": "markdown",
   "metadata": {},
   "source": [
    "### Null Model"
   ]
  },
  {
   "cell_type": "code",
   "execution_count": 9,
   "metadata": {},
   "outputs": [
    {
     "name": "stdout",
     "output_type": "stream",
     "text": [
      "================================================================================== \n",
      " y_graduate\n",
      "                   pre       rec       spe        f1       geo       iba       sup\n",
      "\n",
      "          0       0.00      0.00      1.00      0.00      0.00      0.00       182\n",
      "          1       0.94      1.00      0.00      0.97      0.00      0.00      2778\n",
      "\n",
      "avg / total       0.88      0.94      0.06      0.91      0.00      0.00      2960\n",
      "\n",
      "One-vs-Rest ROC AUC score: 0.500000 (weighted by prevalence)\n",
      "================================================================================== \n",
      " y_dropout\n",
      "                   pre       rec       spe        f1       geo       iba       sup\n",
      "\n",
      "          0       0.90      1.00      0.00      0.95      0.00      0.00      2658\n",
      "          1       0.00      0.00      1.00      0.00      0.00      0.00       302\n",
      "\n",
      "avg / total       0.81      0.90      0.10      0.85      0.00      0.00      2960\n",
      "\n",
      "One-vs-Rest ROC AUC score: 0.500000 (weighted by prevalence)\n",
      "================================================================================== \n",
      " y_gpa\n",
      "                   pre       rec       spe        f1       geo       iba       sup\n",
      "\n",
      "          0       0.00      0.00      1.00      0.00      0.00      0.00       208\n",
      "          1       0.00      0.00      1.00      0.00      0.00      0.00       925\n",
      "          2       0.44      1.00      0.00      0.61      0.00      0.00      1295\n",
      "          3       0.00      0.00      1.00      0.00      0.00      0.00       532\n",
      "\n",
      "avg / total       0.19      0.44      0.56      0.27      0.00      0.00      2960\n",
      "\n",
      "One-vs-Rest ROC AUC score: 0.500000 (weighted by prevalence)\n",
      "==================================================================================\n"
     ]
    }
   ],
   "source": [
    "dc = make_pipeline(\n",
    "    StandardScaler(),\n",
    "    DummyClassifier(strategy=\"prior\")\n",
    ")\n",
    "\n",
    "print_report(dc, all_y)"
   ]
  },
  {
   "cell_type": "markdown",
   "metadata": {},
   "source": [
    "## Predict using RandomForestClassifier without imbalanced learn"
   ]
  },
  {
   "cell_type": "code",
   "execution_count": 10,
   "metadata": {},
   "outputs": [
    {
     "name": "stdout",
     "output_type": "stream",
     "text": [
      "================================================================================== \n",
      " y_graduate\n",
      "                   pre       rec       spe        f1       geo       iba       sup\n",
      "\n",
      "          0       0.00      0.00      1.00      0.00      0.00      0.00       182\n",
      "          1       0.94      1.00      0.00      0.97      0.00      0.00      2778\n",
      "\n",
      "avg / total       0.88      0.94      0.06      0.91      0.00      0.00      2960\n",
      "\n",
      "One-vs-Rest ROC AUC score: 0.467142 (weighted by prevalence)\n",
      "================================================================================== \n",
      " y_dropout\n",
      "                   pre       rec       spe        f1       geo       iba       sup\n",
      "\n",
      "          0       0.90      1.00      0.00      0.95      0.00      0.00      2658\n",
      "          1       0.00      0.00      1.00      0.00      0.00      0.00       302\n",
      "\n",
      "avg / total       0.81      0.90      0.10      0.85      0.00      0.00      2960\n",
      "\n",
      "One-vs-Rest ROC AUC score: 0.486422 (weighted by prevalence)\n",
      "================================================================================== \n",
      " y_gpa\n",
      "                   pre       rec       spe        f1       geo       iba       sup\n",
      "\n",
      "          0       0.33      0.02      1.00      0.04      0.15      0.02       208\n",
      "          1       0.52      0.60      0.75      0.56      0.67      0.44       925\n",
      "          2       0.55      0.64      0.58      0.59      0.61      0.38      1295\n",
      "          3       0.59      0.41      0.94      0.48      0.62      0.36       532\n",
      "\n",
      "avg / total       0.53      0.54      0.73      0.52      0.60      0.37      2960\n",
      "\n",
      "One-vs-Rest ROC AUC score: 0.736139 (weighted by prevalence)\n",
      "==================================================================================\n"
     ]
    }
   ],
   "source": [
    "clf = make_pipeline(\n",
    "    StandardScaler(),\n",
    "    RandomForestClassifier()\n",
    ")\n",
    "\n",
    "print_report(clf, all_y)"
   ]
  },
  {
   "cell_type": "markdown",
   "metadata": {},
   "source": [
    "## Predict using RandomForestClassifier with imbalanced learn"
   ]
  },
  {
   "cell_type": "code",
   "execution_count": 11,
   "metadata": {},
   "outputs": [
    {
     "name": "stdout",
     "output_type": "stream",
     "text": [
      "==================================================================================\n",
      "RandomUnderSampler\n",
      "================================================================================== \n",
      " y_graduate\n",
      "                   pre       rec       spe        f1       geo       iba       sup\n",
      "\n",
      "          0       0.06      0.51      0.48      0.11      0.49      0.24       182\n",
      "          1       0.94      0.48      0.51      0.63      0.49      0.24      2778\n",
      "\n",
      "avg / total       0.88      0.48      0.50      0.60      0.49      0.24      2960\n",
      "\n",
      "One-vs-Rest ROC AUC score: 0.483500 (weighted by prevalence)\n",
      "================================================================================== \n",
      " y_dropout\n",
      "                   pre       rec       spe        f1       geo       iba       sup\n",
      "\n",
      "          0       0.90      0.53      0.46      0.67      0.49      0.25      2658\n",
      "          1       0.10      0.46      0.53      0.16      0.49      0.24       302\n",
      "\n",
      "avg / total       0.82      0.53      0.46      0.62      0.49      0.25      2960\n",
      "\n",
      "One-vs-Rest ROC AUC score: 0.494605 (weighted by prevalence)\n",
      "================================================================================== \n",
      " y_gpa\n",
      "                   pre       rec       spe        f1       geo       iba       sup\n",
      "\n",
      "          0       0.20      0.58      0.82      0.29      0.69      0.46       208\n",
      "          1       0.51      0.39      0.83      0.44      0.57      0.31       925\n",
      "          2       0.59      0.31      0.83      0.41      0.51      0.25      1295\n",
      "          3       0.41      0.73      0.77      0.52      0.75      0.56       532\n",
      "\n",
      "avg / total       0.50      0.43      0.82      0.43      0.58      0.34      2960\n",
      "\n",
      "One-vs-Rest ROC AUC score: 0.724535 (weighted by prevalence)\n",
      "==================================================================================\n",
      "==================================================================================\n",
      "RandomOverSampler\n",
      "================================================================================== \n",
      " y_graduate\n",
      "                   pre       rec       spe        f1       geo       iba       sup\n",
      "\n",
      "          0       0.10      0.02      0.99      0.04      0.15      0.02       182\n",
      "          1       0.94      0.99      0.02      0.96      0.15      0.02      2778\n",
      "\n",
      "avg / total       0.89      0.93      0.08      0.91      0.15      0.02      2960\n",
      "\n",
      "One-vs-Rest ROC AUC score: 0.534511 (weighted by prevalence)\n",
      "================================================================================== \n",
      " y_dropout\n",
      "                   pre       rec       spe        f1       geo       iba       sup\n",
      "\n",
      "          0       0.90      0.98      0.01      0.94      0.08      0.01      2658\n",
      "          1       0.05      0.01      0.98      0.01      0.08      0.01       302\n",
      "\n",
      "avg / total       0.81      0.88      0.11      0.84      0.08      0.01      2960\n",
      "\n",
      "One-vs-Rest ROC AUC score: 0.500093 (weighted by prevalence)\n",
      "================================================================================== \n",
      " y_gpa\n",
      "                   pre       rec       spe        f1       geo       iba       sup\n",
      "\n",
      "          0       0.18      0.17      0.94      0.17      0.40      0.15       208\n",
      "          1       0.53      0.60      0.76      0.56      0.68      0.45       925\n",
      "          2       0.57      0.52      0.70      0.55      0.60      0.36      1295\n",
      "          3       0.52      0.52      0.89      0.52      0.68      0.45       532\n",
      "\n",
      "avg / total       0.52      0.52      0.77      0.52      0.63      0.39      2960\n",
      "\n",
      "One-vs-Rest ROC AUC score: 0.732603 (weighted by prevalence)\n",
      "==================================================================================\n",
      "==================================================================================\n",
      "SMOTE\n",
      "================================================================================== \n",
      " y_graduate\n",
      "                   pre       rec       spe        f1       geo       iba       sup\n",
      "\n",
      "          0       0.08      0.02      0.98      0.03      0.15      0.02       182\n",
      "          1       0.94      0.98      0.02      0.96      0.15      0.02      2778\n",
      "\n",
      "avg / total       0.89      0.92      0.08      0.90      0.15      0.02      2960\n",
      "\n",
      "One-vs-Rest ROC AUC score: 0.489468 (weighted by prevalence)\n",
      "================================================================================== \n",
      " y_dropout\n",
      "                   pre       rec       spe        f1       geo       iba       sup\n",
      "\n",
      "          0       0.90      0.98      0.03      0.94      0.16      0.03      2658\n",
      "          1       0.12      0.03      0.98      0.04      0.16      0.02       302\n",
      "\n",
      "avg / total       0.82      0.88      0.12      0.85      0.16      0.03      2960\n",
      "\n",
      "One-vs-Rest ROC AUC score: 0.515946 (weighted by prevalence)\n",
      "================================================================================== \n",
      " y_gpa\n",
      "                   pre       rec       spe        f1       geo       iba       sup\n",
      "\n",
      "          0       0.21      0.17      0.95      0.19      0.41      0.15       208\n",
      "          1       0.54      0.57      0.78      0.55      0.67      0.44       925\n",
      "          2       0.56      0.59      0.65      0.57      0.62      0.38      1295\n",
      "          3       0.55      0.47      0.92      0.51      0.66      0.41       532\n",
      "\n",
      "avg / total       0.53      0.53      0.76      0.53      0.62      0.39      2960\n",
      "\n",
      "One-vs-Rest ROC AUC score: 0.735882 (weighted by prevalence)\n",
      "==================================================================================\n",
      "==================================================================================\n",
      "ADASYN\n",
      "================================================================================== \n",
      " y_graduate\n",
      "                   pre       rec       spe        f1       geo       iba       sup\n",
      "\n",
      "          0       0.08      0.02      0.98      0.03      0.15      0.02       182\n",
      "          1       0.94      0.98      0.02      0.96      0.15      0.02      2778\n",
      "\n",
      "avg / total       0.89      0.92      0.08      0.90      0.15      0.02      2960\n",
      "\n",
      "One-vs-Rest ROC AUC score: 0.466497 (weighted by prevalence)\n",
      "================================================================================== \n",
      " y_dropout\n",
      "                   pre       rec       spe        f1       geo       iba       sup\n",
      "\n",
      "          0       0.90      0.98      0.04      0.94      0.20      0.04      2658\n",
      "          1       0.16      0.04      0.98      0.06      0.20      0.04       302\n",
      "\n",
      "avg / total       0.82      0.88      0.14      0.85      0.20      0.04      2960\n",
      "\n",
      "One-vs-Rest ROC AUC score: 0.511122 (weighted by prevalence)\n",
      "================================================================================== \n",
      " y_gpa\n",
      "                   pre       rec       spe        f1       geo       iba       sup\n",
      "\n",
      "          0       0.21      0.14      0.96      0.17      0.37      0.13       208\n",
      "          1       0.53      0.58      0.77      0.55      0.66      0.43       925\n",
      "          2       0.56      0.57      0.65      0.56      0.61      0.37      1295\n",
      "          3       0.52      0.48      0.90      0.50      0.66      0.41       532\n",
      "\n",
      "avg / total       0.52      0.52      0.75      0.52      0.62      0.38      2960\n",
      "\n",
      "One-vs-Rest ROC AUC score: 0.736715 (weighted by prevalence)\n",
      "==================================================================================\n"
     ]
    }
   ],
   "source": [
    "for imb_model in imb_models:\n",
    "    \n",
    "    rus_clf = imb_make_pipeline(\n",
    "        StandardScaler(),\n",
    "        imb_models[imb_model],\n",
    "        RandomForestClassifier()\n",
    "    )\n",
    "\n",
    "    print_imb_report(imb_model, rus_clf, all_y)"
   ]
  },
  {
   "cell_type": "markdown",
   "metadata": {},
   "source": [
    "## Predict using BalancedRandomForestClassifier"
   ]
  },
  {
   "cell_type": "code",
   "execution_count": 12,
   "metadata": {},
   "outputs": [
    {
     "name": "stdout",
     "output_type": "stream",
     "text": [
      "================================================================================== \n",
      " y_graduate\n",
      "                   pre       rec       spe        f1       geo       iba       sup\n",
      "\n",
      "          0       0.06      0.49      0.49      0.11      0.49      0.24       182\n",
      "          1       0.94      0.49      0.49      0.64      0.49      0.24      2778\n",
      "\n",
      "avg / total       0.88      0.49      0.49      0.61      0.49      0.24      2960\n",
      "\n",
      "One-vs-Rest ROC AUC score: 0.487893 (weighted by prevalence)\n",
      "================================================================================== \n",
      " y_dropout\n",
      "                   pre       rec       spe        f1       geo       iba       sup\n",
      "\n",
      "          0       0.90      0.52      0.47      0.66      0.49      0.24      2658\n",
      "          1       0.10      0.47      0.52      0.16      0.49      0.24       302\n",
      "\n",
      "avg / total       0.81      0.51      0.47      0.61      0.49      0.24      2960\n",
      "\n",
      "One-vs-Rest ROC AUC score: 0.479164 (weighted by prevalence)\n",
      "================================================================================== \n",
      " y_gpa\n",
      "                   pre       rec       spe        f1       geo       iba       sup\n",
      "\n",
      "          0       0.20      0.68      0.79      0.31      0.73      0.53       208\n",
      "          1       0.51      0.38      0.84      0.44      0.56      0.30       925\n",
      "          2       0.60      0.31      0.84      0.41      0.51      0.25      1295\n",
      "          3       0.45      0.76      0.79      0.56      0.78      0.60       532\n",
      "\n",
      "avg / total       0.52      0.44      0.83      0.44      0.59      0.35      2960\n",
      "\n",
      "One-vs-Rest ROC AUC score: 0.739620 (weighted by prevalence)\n",
      "==================================================================================\n"
     ]
    }
   ],
   "source": [
    "brf = imb_make_pipeline(\n",
    "    StandardScaler(),\n",
    "    BalancedRandomForestClassifier()\n",
    ")\n",
    "\n",
    "print_report(brf, all_y)"
   ]
  },
  {
   "cell_type": "markdown",
   "metadata": {},
   "source": [
    "## TRAIN-TEST-SPLIT RESULTS: No models do very well, and they all yield relatively similar results.\n",
    "### The models do not do well at predicting successful high school graduation or high school dropouts.\n",
    "### However, RandomForestClassifier with RandomOverSampler imbalanced learn appears to do reasonably better than the null model. Therefore, we will select this model for our app.\n",
    "## Export model"
   ]
  },
  {
   "cell_type": "code",
   "execution_count": 13,
   "metadata": {},
   "outputs": [
    {
     "data": {
      "text/plain": [
       "['rus_clf.joblib']"
      ]
     },
     "execution_count": 13,
     "metadata": {},
     "output_type": "execute_result"
    }
   ],
   "source": [
    "rus_clf = imb_make_pipeline(\n",
    "    StandardScaler(),\n",
    "    imb_models[\"RandomOverSampler\"],\n",
    "    RandomForestClassifier()\n",
    ")\n",
    "\n",
    "rus_clf.fit(X, y_gpa)\n",
    "dump(rus_clf, \"rus_clf.joblib\")"
   ]
  },
  {
   "cell_type": "markdown",
   "metadata": {},
   "source": [
    "# Cross Validation\n",
    "### This is mostly to confirm that these models don't do any better then train-test-split.\n",
    "### Note: This takes a long time to run..."
   ]
  },
  {
   "cell_type": "code",
   "execution_count": 14,
   "metadata": {},
   "outputs": [],
   "source": [
    "def cv_report(model, all_y, X):\n",
    "    \n",
    "    cv_accuracy_lst = []\n",
    "    cv_precision_lst = []\n",
    "    cv_recall_lst = []\n",
    "        \n",
    "    for y in all_y:\n",
    "        \n",
    "        cv_dict = cross_validate(model, X, all_y[y], scoring={\n",
    "            \"Accuracy\": \"accuracy\",\n",
    "            \"Weighted_Precision\": make_scorer(precision_score, average=\"weighted\", zero_division=0),\n",
    "            \"Weighted_Recall\": make_scorer(recall_score, average=\"weighted\", zero_division=0)\n",
    "        })\n",
    "\n",
    "        cv_accuracy = cv_dict[\"test_Accuracy\"].mean()\n",
    "        cv_accuracy_lst.append(cv_accuracy)\n",
    "        \n",
    "        cv_precision = cv_dict[\"test_Weighted_Precision\"].mean()\n",
    "        cv_precision_lst.append(cv_precision)\n",
    "        \n",
    "        cv_recall = cv_dict[\"test_Weighted_Recall\"].mean()\n",
    "        cv_recall_lst.append(cv_recall)\n",
    "    \n",
    "    return pd.DataFrame(data={\"parameter\": list(all_y.keys()), \"accuracy\": cv_accuracy_lst, \"weighted_precision\": cv_precision_lst, \"weighted_recall\": cv_recall_lst}).set_index(\"parameter\")"
   ]
  },
  {
   "cell_type": "markdown",
   "metadata": {},
   "source": [
    "## Models Not Utilizing Imbalanced Learn"
   ]
  },
  {
   "cell_type": "markdown",
   "metadata": {},
   "source": [
    "### Null Model"
   ]
  },
  {
   "cell_type": "code",
   "execution_count": 15,
   "metadata": {},
   "outputs": [
    {
     "data": {
      "text/html": [
       "<div>\n",
       "<style scoped>\n",
       "    .dataframe tbody tr th:only-of-type {\n",
       "        vertical-align: middle;\n",
       "    }\n",
       "\n",
       "    .dataframe tbody tr th {\n",
       "        vertical-align: top;\n",
       "    }\n",
       "\n",
       "    .dataframe thead th {\n",
       "        text-align: right;\n",
       "    }\n",
       "</style>\n",
       "<table border=\"1\" class=\"dataframe\">\n",
       "  <thead>\n",
       "    <tr style=\"text-align: right;\">\n",
       "      <th></th>\n",
       "      <th>accuracy</th>\n",
       "      <th>weighted_precision</th>\n",
       "      <th>weighted_recall</th>\n",
       "    </tr>\n",
       "    <tr>\n",
       "      <th>parameter</th>\n",
       "      <th></th>\n",
       "      <th></th>\n",
       "      <th></th>\n",
       "    </tr>\n",
       "  </thead>\n",
       "  <tbody>\n",
       "    <tr>\n",
       "      <th>y_graduate</th>\n",
       "      <td>0.938564</td>\n",
       "      <td>0.880903</td>\n",
       "      <td>0.938564</td>\n",
       "    </tr>\n",
       "    <tr>\n",
       "      <th>y_dropout</th>\n",
       "      <td>0.897945</td>\n",
       "      <td>0.806306</td>\n",
       "      <td>0.897945</td>\n",
       "    </tr>\n",
       "    <tr>\n",
       "      <th>y_gpa</th>\n",
       "      <td>0.437618</td>\n",
       "      <td>0.191510</td>\n",
       "      <td>0.437618</td>\n",
       "    </tr>\n",
       "  </tbody>\n",
       "</table>\n",
       "</div>"
      ],
      "text/plain": [
       "            accuracy  weighted_precision  weighted_recall\n",
       "parameter                                                \n",
       "y_graduate  0.938564            0.880903         0.938564\n",
       "y_dropout   0.897945            0.806306         0.897945\n",
       "y_gpa       0.437618            0.191510         0.437618"
      ]
     },
     "execution_count": 15,
     "metadata": {},
     "output_type": "execute_result"
    }
   ],
   "source": [
    "dc = make_pipeline(\n",
    "    StandardScaler(),\n",
    "    DummyClassifier(strategy=\"prior\")\n",
    ")\n",
    "\n",
    "cv_report(dc, all_y, X)"
   ]
  },
  {
   "cell_type": "markdown",
   "metadata": {},
   "source": [
    "### Logistic Regression"
   ]
  },
  {
   "cell_type": "code",
   "execution_count": 16,
   "metadata": {},
   "outputs": [
    {
     "data": {
      "text/html": [
       "<div>\n",
       "<style scoped>\n",
       "    .dataframe tbody tr th:only-of-type {\n",
       "        vertical-align: middle;\n",
       "    }\n",
       "\n",
       "    .dataframe tbody tr th {\n",
       "        vertical-align: top;\n",
       "    }\n",
       "\n",
       "    .dataframe thead th {\n",
       "        text-align: right;\n",
       "    }\n",
       "</style>\n",
       "<table border=\"1\" class=\"dataframe\">\n",
       "  <thead>\n",
       "    <tr style=\"text-align: right;\">\n",
       "      <th></th>\n",
       "      <th>accuracy</th>\n",
       "      <th>weighted_precision</th>\n",
       "      <th>weighted_recall</th>\n",
       "    </tr>\n",
       "    <tr>\n",
       "      <th>parameter</th>\n",
       "      <th></th>\n",
       "      <th></th>\n",
       "      <th></th>\n",
       "    </tr>\n",
       "  </thead>\n",
       "  <tbody>\n",
       "    <tr>\n",
       "      <th>y_graduate</th>\n",
       "      <td>0.937686</td>\n",
       "      <td>0.903458</td>\n",
       "      <td>0.937686</td>\n",
       "    </tr>\n",
       "    <tr>\n",
       "      <th>y_dropout</th>\n",
       "      <td>0.895309</td>\n",
       "      <td>0.862453</td>\n",
       "      <td>0.895309</td>\n",
       "    </tr>\n",
       "    <tr>\n",
       "      <th>y_gpa</th>\n",
       "      <td>0.532304</td>\n",
       "      <td>0.528464</td>\n",
       "      <td>0.532304</td>\n",
       "    </tr>\n",
       "  </tbody>\n",
       "</table>\n",
       "</div>"
      ],
      "text/plain": [
       "            accuracy  weighted_precision  weighted_recall\n",
       "parameter                                                \n",
       "y_graduate  0.937686            0.903458         0.937686\n",
       "y_dropout   0.895309            0.862453         0.895309\n",
       "y_gpa       0.532304            0.528464         0.532304"
      ]
     },
     "execution_count": 16,
     "metadata": {},
     "output_type": "execute_result"
    }
   ],
   "source": [
    "lr = make_pipeline(\n",
    "    StandardScaler(),\n",
    "    LogisticRegression()\n",
    ")\n",
    "\n",
    "cv_report(lr, all_y, X)"
   ]
  },
  {
   "cell_type": "markdown",
   "metadata": {},
   "source": [
    "### Decision Tree"
   ]
  },
  {
   "cell_type": "code",
   "execution_count": 17,
   "metadata": {},
   "outputs": [
    {
     "data": {
      "text/html": [
       "<div>\n",
       "<style scoped>\n",
       "    .dataframe tbody tr th:only-of-type {\n",
       "        vertical-align: middle;\n",
       "    }\n",
       "\n",
       "    .dataframe tbody tr th {\n",
       "        vertical-align: top;\n",
       "    }\n",
       "\n",
       "    .dataframe thead th {\n",
       "        text-align: right;\n",
       "    }\n",
       "</style>\n",
       "<table border=\"1\" class=\"dataframe\">\n",
       "  <thead>\n",
       "    <tr style=\"text-align: right;\">\n",
       "      <th></th>\n",
       "      <th>accuracy</th>\n",
       "      <th>weighted_precision</th>\n",
       "      <th>weighted_recall</th>\n",
       "    </tr>\n",
       "    <tr>\n",
       "      <th>parameter</th>\n",
       "      <th></th>\n",
       "      <th></th>\n",
       "      <th></th>\n",
       "    </tr>\n",
       "  </thead>\n",
       "  <tbody>\n",
       "    <tr>\n",
       "      <th>y_graduate</th>\n",
       "      <td>0.855094</td>\n",
       "      <td>0.896132</td>\n",
       "      <td>0.855094</td>\n",
       "    </tr>\n",
       "    <tr>\n",
       "      <th>y_dropout</th>\n",
       "      <td>0.796497</td>\n",
       "      <td>0.835026</td>\n",
       "      <td>0.796497</td>\n",
       "    </tr>\n",
       "    <tr>\n",
       "      <th>y_gpa</th>\n",
       "      <td>0.431603</td>\n",
       "      <td>0.433513</td>\n",
       "      <td>0.431603</td>\n",
       "    </tr>\n",
       "  </tbody>\n",
       "</table>\n",
       "</div>"
      ],
      "text/plain": [
       "            accuracy  weighted_precision  weighted_recall\n",
       "parameter                                                \n",
       "y_graduate  0.855094            0.896132         0.855094\n",
       "y_dropout   0.796497            0.835026         0.796497\n",
       "y_gpa       0.431603            0.433513         0.431603"
      ]
     },
     "execution_count": 17,
     "metadata": {},
     "output_type": "execute_result"
    }
   ],
   "source": [
    "dt = make_pipeline(\n",
    "    StandardScaler(),\n",
    "    DecisionTreeClassifier()\n",
    ")\n",
    "\n",
    "cv_report(dt, all_y, X)"
   ]
  },
  {
   "cell_type": "markdown",
   "metadata": {},
   "source": [
    "### Random Forest"
   ]
  },
  {
   "cell_type": "code",
   "execution_count": 18,
   "metadata": {},
   "outputs": [
    {
     "data": {
      "text/html": [
       "<div>\n",
       "<style scoped>\n",
       "    .dataframe tbody tr th:only-of-type {\n",
       "        vertical-align: middle;\n",
       "    }\n",
       "\n",
       "    .dataframe tbody tr th {\n",
       "        vertical-align: top;\n",
       "    }\n",
       "\n",
       "    .dataframe thead th {\n",
       "        text-align: right;\n",
       "    }\n",
       "</style>\n",
       "<table border=\"1\" class=\"dataframe\">\n",
       "  <thead>\n",
       "    <tr style=\"text-align: right;\">\n",
       "      <th></th>\n",
       "      <th>accuracy</th>\n",
       "      <th>weighted_precision</th>\n",
       "      <th>weighted_recall</th>\n",
       "    </tr>\n",
       "    <tr>\n",
       "      <th>parameter</th>\n",
       "      <th></th>\n",
       "      <th></th>\n",
       "      <th></th>\n",
       "    </tr>\n",
       "  </thead>\n",
       "  <tbody>\n",
       "    <tr>\n",
       "      <th>y_graduate</th>\n",
       "      <td>0.920045</td>\n",
       "      <td>0.890276</td>\n",
       "      <td>0.920045</td>\n",
       "    </tr>\n",
       "    <tr>\n",
       "      <th>y_dropout</th>\n",
       "      <td>0.878277</td>\n",
       "      <td>0.853759</td>\n",
       "      <td>0.878277</td>\n",
       "    </tr>\n",
       "    <tr>\n",
       "      <th>y_gpa</th>\n",
       "      <td>0.526019</td>\n",
       "      <td>0.510385</td>\n",
       "      <td>0.526019</td>\n",
       "    </tr>\n",
       "  </tbody>\n",
       "</table>\n",
       "</div>"
      ],
      "text/plain": [
       "            accuracy  weighted_precision  weighted_recall\n",
       "parameter                                                \n",
       "y_graduate  0.920045            0.890276         0.920045\n",
       "y_dropout   0.878277            0.853759         0.878277\n",
       "y_gpa       0.526019            0.510385         0.526019"
      ]
     },
     "execution_count": 18,
     "metadata": {},
     "output_type": "execute_result"
    }
   ],
   "source": [
    "rf = make_pipeline(\n",
    "    StandardScaler(),\n",
    "    RandomForestClassifier()\n",
    ")\n",
    "\n",
    "cv_report(rf, all_y, X)"
   ]
  },
  {
   "cell_type": "markdown",
   "metadata": {},
   "source": [
    "### Multi-layer Perceptron Classifier"
   ]
  },
  {
   "cell_type": "code",
   "execution_count": 19,
   "metadata": {},
   "outputs": [
    {
     "data": {
      "text/html": [
       "<div>\n",
       "<style scoped>\n",
       "    .dataframe tbody tr th:only-of-type {\n",
       "        vertical-align: middle;\n",
       "    }\n",
       "\n",
       "    .dataframe tbody tr th {\n",
       "        vertical-align: top;\n",
       "    }\n",
       "\n",
       "    .dataframe thead th {\n",
       "        text-align: right;\n",
       "    }\n",
       "</style>\n",
       "<table border=\"1\" class=\"dataframe\">\n",
       "  <thead>\n",
       "    <tr style=\"text-align: right;\">\n",
       "      <th></th>\n",
       "      <th>accuracy</th>\n",
       "      <th>weighted_precision</th>\n",
       "      <th>weighted_recall</th>\n",
       "    </tr>\n",
       "    <tr>\n",
       "      <th>parameter</th>\n",
       "      <th></th>\n",
       "      <th></th>\n",
       "      <th></th>\n",
       "    </tr>\n",
       "  </thead>\n",
       "  <tbody>\n",
       "    <tr>\n",
       "      <th>y_graduate</th>\n",
       "      <td>0.895713</td>\n",
       "      <td>0.897340</td>\n",
       "      <td>0.895713</td>\n",
       "    </tr>\n",
       "    <tr>\n",
       "      <th>y_dropout</th>\n",
       "      <td>0.851106</td>\n",
       "      <td>0.844953</td>\n",
       "      <td>0.851106</td>\n",
       "    </tr>\n",
       "    <tr>\n",
       "      <th>y_gpa</th>\n",
       "      <td>0.496686</td>\n",
       "      <td>0.491450</td>\n",
       "      <td>0.496686</td>\n",
       "    </tr>\n",
       "  </tbody>\n",
       "</table>\n",
       "</div>"
      ],
      "text/plain": [
       "            accuracy  weighted_precision  weighted_recall\n",
       "parameter                                                \n",
       "y_graduate  0.895713            0.897340         0.895713\n",
       "y_dropout   0.851106            0.844953         0.851106\n",
       "y_gpa       0.496686            0.491450         0.496686"
      ]
     },
     "execution_count": 19,
     "metadata": {},
     "output_type": "execute_result"
    }
   ],
   "source": [
    "mlp = make_pipeline(\n",
    "    StandardScaler(),\n",
    "    MLPClassifier()\n",
    ")\n",
    "\n",
    "cv_report(mlp, all_y, X)"
   ]
  },
  {
   "cell_type": "markdown",
   "metadata": {},
   "source": [
    "## Models Utilizing Imbalanced Learn"
   ]
  },
  {
   "cell_type": "markdown",
   "metadata": {},
   "source": [
    "### Null Model"
   ]
  },
  {
   "cell_type": "code",
   "execution_count": 20,
   "metadata": {},
   "outputs": [
    {
     "name": "stdout",
     "output_type": "stream",
     "text": [
      "=========================================================\n",
      "SMOTE\n"
     ]
    },
    {
     "data": {
      "text/html": [
       "<div>\n",
       "<style scoped>\n",
       "    .dataframe tbody tr th:only-of-type {\n",
       "        vertical-align: middle;\n",
       "    }\n",
       "\n",
       "    .dataframe tbody tr th {\n",
       "        vertical-align: top;\n",
       "    }\n",
       "\n",
       "    .dataframe thead th {\n",
       "        text-align: right;\n",
       "    }\n",
       "</style>\n",
       "<table border=\"1\" class=\"dataframe\">\n",
       "  <thead>\n",
       "    <tr style=\"text-align: right;\">\n",
       "      <th></th>\n",
       "      <th>accuracy</th>\n",
       "      <th>weighted_precision</th>\n",
       "      <th>weighted_recall</th>\n",
       "    </tr>\n",
       "    <tr>\n",
       "      <th>parameter</th>\n",
       "      <th></th>\n",
       "      <th></th>\n",
       "      <th></th>\n",
       "    </tr>\n",
       "  </thead>\n",
       "  <tbody>\n",
       "    <tr>\n",
       "      <th>y_graduate</th>\n",
       "      <td>0.061436</td>\n",
       "      <td>0.003774</td>\n",
       "      <td>0.061436</td>\n",
       "    </tr>\n",
       "    <tr>\n",
       "      <th>y_dropout</th>\n",
       "      <td>0.897945</td>\n",
       "      <td>0.806306</td>\n",
       "      <td>0.897945</td>\n",
       "    </tr>\n",
       "    <tr>\n",
       "      <th>y_gpa</th>\n",
       "      <td>0.070154</td>\n",
       "      <td>0.004922</td>\n",
       "      <td>0.070154</td>\n",
       "    </tr>\n",
       "  </tbody>\n",
       "</table>\n",
       "</div>"
      ],
      "text/plain": [
       "            accuracy  weighted_precision  weighted_recall\n",
       "parameter                                                \n",
       "y_graduate  0.061436            0.003774         0.061436\n",
       "y_dropout   0.897945            0.806306         0.897945\n",
       "y_gpa       0.070154            0.004922         0.070154"
      ]
     },
     "execution_count": 20,
     "metadata": {},
     "output_type": "execute_result"
    }
   ],
   "source": [
    "dc = imb_make_pipeline(\n",
    "    StandardScaler(),\n",
    "    SMOTE(),\n",
    "    DummyClassifier(strategy=\"prior\")\n",
    ")\n",
    "\n",
    "print(\"=\" * 57)\n",
    "print(\"SMOTE\")\n",
    "cv_report(dc, all_y, X)"
   ]
  },
  {
   "cell_type": "markdown",
   "metadata": {},
   "source": [
    "### Logistic Regression"
   ]
  },
  {
   "cell_type": "code",
   "execution_count": 21,
   "metadata": {},
   "outputs": [
    {
     "name": "stdout",
     "output_type": "stream",
     "text": [
      "========================================================= \n",
      " RandomUnderSampler\n",
      "            accuracy  weighted_precision  weighted_recall\n",
      "parameter                                                \n",
      "y_graduate  0.634760            0.917581         0.634760\n",
      "y_dropout   0.654293            0.878241         0.654293\n",
      "y_gpa       0.403960            0.478258         0.403960\n",
      "========================================================= \n",
      " RandomOverSampler\n",
      "            accuracy  weighted_precision  weighted_recall\n",
      "parameter                                                \n",
      "y_graduate  0.661187            0.920408         0.661187\n",
      "y_dropout   0.660038            0.876653         0.660038\n",
      "y_gpa       0.413760            0.488430         0.413760\n",
      "========================================================= \n",
      " SMOTE\n",
      "            accuracy  weighted_precision  weighted_recall\n",
      "parameter                                                \n",
      "y_graduate  0.655847            0.919342         0.655847\n",
      "y_dropout   0.663552            0.875608         0.663552\n",
      "y_gpa       0.413151            0.485682         0.413151\n",
      "========================================================= \n",
      " ADASYN\n",
      "            accuracy  weighted_precision  weighted_recall\n",
      "parameter                                                \n",
      "y_graduate  0.645370            0.920251         0.645370\n",
      "y_dropout   0.658076            0.877393         0.658076\n",
      "y_gpa       0.405919            0.485829         0.405919\n"
     ]
    }
   ],
   "source": [
    "for imb_model in imb_models:\n",
    "    \n",
    "    lr = imb_make_pipeline(\n",
    "        StandardScaler(),\n",
    "        imb_models[imb_model],\n",
    "        LogisticRegression()\n",
    "    )\n",
    "\n",
    "    print(\"=\" * 57, \"\\n\", imb_model)\n",
    "    print(cv_report(lr, all_y, X))"
   ]
  },
  {
   "cell_type": "markdown",
   "metadata": {},
   "source": [
    "### Decision Tree"
   ]
  },
  {
   "cell_type": "code",
   "execution_count": 22,
   "metadata": {},
   "outputs": [
    {
     "name": "stdout",
     "output_type": "stream",
     "text": [
      "========================================================= \n",
      " RandomUnderSampler\n",
      "            accuracy  weighted_precision  weighted_recall\n",
      "parameter                                                \n",
      "y_graduate  0.586030            0.904525         0.586030\n",
      "y_dropout   0.595494            0.848936         0.595494\n",
      "y_gpa       0.375303            0.431798         0.375303\n",
      "========================================================= \n",
      " RandomOverSampler\n",
      "            accuracy  weighted_precision  weighted_recall\n",
      "parameter                                                \n",
      "y_graduate  0.835358            0.892366         0.835358\n",
      "y_dropout   0.783991            0.830577         0.783991\n",
      "y_gpa       0.417410            0.430188         0.417410\n",
      "========================================================= \n",
      " SMOTE\n",
      "            accuracy  weighted_precision  weighted_recall\n",
      "parameter                                                \n",
      "y_graduate  0.835021            0.893072         0.835021\n",
      "y_dropout   0.767299            0.834409         0.767299\n",
      "y_gpa       0.412069            0.426259         0.412069\n",
      "========================================================= \n",
      " ADASYN\n",
      "            accuracy  weighted_precision  weighted_recall\n",
      "parameter                                                \n",
      "y_graduate  0.836237            0.895213         0.836237\n",
      "y_dropout   0.778991            0.834459         0.778991\n",
      "y_gpa       0.415179            0.427292         0.415179\n"
     ]
    }
   ],
   "source": [
    "for imb_model in imb_models:\n",
    "    \n",
    "    dt = imb_make_pipeline(\n",
    "        StandardScaler(),\n",
    "        imb_models[imb_model],\n",
    "        DecisionTreeClassifier()\n",
    "    )\n",
    "\n",
    "    print(\"=\" * 57, \"\\n\", imb_model)\n",
    "    print(cv_report(dt, all_y, X))"
   ]
  },
  {
   "cell_type": "markdown",
   "metadata": {},
   "source": [
    "### Random Forest"
   ]
  },
  {
   "cell_type": "code",
   "execution_count": 23,
   "metadata": {},
   "outputs": [
    {
     "name": "stdout",
     "output_type": "stream",
     "text": [
      "========================================================= \n",
      " RandomUnderSampler\n",
      "            accuracy  weighted_precision  weighted_recall\n",
      "parameter                                                \n",
      "y_graduate  0.652064            0.921879         0.652064\n",
      "y_dropout   0.649359            0.874063         0.649359\n",
      "y_gpa       0.412814            0.484842         0.412814\n",
      "========================================================= \n",
      " RandomOverSampler\n",
      "            accuracy  weighted_precision  weighted_recall\n",
      "parameter                                                \n",
      "y_graduate  0.888211            0.890341         0.888211\n",
      "y_dropout   0.849213            0.838490         0.849213\n",
      "y_gpa       0.513651            0.509581         0.513651\n",
      "========================================================= \n",
      " SMOTE\n",
      "            accuracy  weighted_precision  weighted_recall\n",
      "parameter                                                \n",
      "y_graduate  0.906730            0.888611         0.906730\n",
      "y_dropout   0.855703            0.830993         0.855703\n",
      "y_gpa       0.516895            0.511985         0.516895\n",
      "========================================================= \n",
      " ADASYN\n",
      "            accuracy  weighted_precision  weighted_recall\n",
      "parameter                                                \n",
      "y_graduate  0.908150            0.887785         0.908150\n",
      "y_dropout   0.864759            0.833538         0.864759\n",
      "y_gpa       0.518111            0.511369         0.518111\n"
     ]
    }
   ],
   "source": [
    "for imb_model in imb_models:\n",
    "    \n",
    "    rf = imb_make_pipeline(\n",
    "        StandardScaler(),\n",
    "        imb_models[imb_model],\n",
    "        RandomForestClassifier()\n",
    "    )\n",
    "\n",
    "    print(\"=\" * 57, \"\\n\", imb_model)\n",
    "    print(cv_report(rf, all_y, X))"
   ]
  },
  {
   "cell_type": "markdown",
   "metadata": {},
   "source": [
    "### Balanced Bagging Classifier"
   ]
  },
  {
   "cell_type": "code",
   "execution_count": 24,
   "metadata": {},
   "outputs": [
    {
     "name": "stdout",
     "output_type": "stream",
     "text": [
      "            accuracy  weighted_precision  weighted_recall\n",
      "parameter                                                \n",
      "y_graduate  0.685721            0.916144         0.685721\n",
      "y_dropout   0.727893            0.857751         0.727893\n",
      "y_gpa       0.431601            0.486642         0.431601\n"
     ]
    }
   ],
   "source": [
    "rf = imb_make_pipeline(\n",
    "    StandardScaler(),\n",
    "    BalancedBaggingClassifier()\n",
    ")\n",
    "\n",
    "print(cv_report(rf, all_y, X))"
   ]
  },
  {
   "cell_type": "markdown",
   "metadata": {},
   "source": [
    "### Balanced Random Forest"
   ]
  },
  {
   "cell_type": "code",
   "execution_count": 25,
   "metadata": {},
   "outputs": [
    {
     "name": "stdout",
     "output_type": "stream",
     "text": [
      "            accuracy  weighted_precision  weighted_recall\n",
      "parameter                                                \n",
      "y_graduate  0.649561            0.925562         0.649561\n",
      "y_dropout   0.646587            0.878757         0.646587\n",
      "y_gpa       0.424843            0.513769         0.424843\n"
     ]
    }
   ],
   "source": [
    "brf = imb_make_pipeline(\n",
    "    StandardScaler(),\n",
    "    BalancedRandomForestClassifier()\n",
    ")\n",
    "\n",
    "print(cv_report(brf, all_y, X))"
   ]
  },
  {
   "cell_type": "markdown",
   "metadata": {},
   "source": [
    "### Easy Ensemble Classifier"
   ]
  },
  {
   "cell_type": "code",
   "execution_count": 26,
   "metadata": {},
   "outputs": [
    {
     "name": "stdout",
     "output_type": "stream",
     "text": [
      "            accuracy  weighted_precision  weighted_recall\n",
      "parameter                                                \n",
      "y_graduate  0.631247            0.924579         0.631247\n",
      "y_dropout   0.645368            0.878623         0.645368\n",
      "y_gpa       0.425653            0.507715         0.425653\n"
     ]
    }
   ],
   "source": [
    "ee = imb_make_pipeline(\n",
    "    StandardScaler(),\n",
    "    EasyEnsembleClassifier()\n",
    ")\n",
    "\n",
    "print(cv_report(ee, all_y, X))"
   ]
  },
  {
   "cell_type": "markdown",
   "metadata": {},
   "source": [
    "### RUS Boost Classifier"
   ]
  },
  {
   "cell_type": "code",
   "execution_count": 27,
   "metadata": {},
   "outputs": [
    {
     "name": "stdout",
     "output_type": "stream",
     "text": [
      "            accuracy  weighted_precision  weighted_recall\n",
      "parameter                                                \n",
      "y_graduate  0.638817            0.924787         0.638817\n",
      "y_dropout   0.652194            0.875079         0.652194\n",
      "y_gpa       0.420923            0.490273         0.420923\n"
     ]
    }
   ],
   "source": [
    "rusb = imb_make_pipeline(\n",
    "    StandardScaler(),\n",
    "    RUSBoostClassifier()\n",
    ")\n",
    "\n",
    "print(cv_report(rusb, all_y, X))"
   ]
  },
  {
   "cell_type": "markdown",
   "metadata": {},
   "source": [
    "### Multi-layer Perceptron Classifier with Oversampling"
   ]
  },
  {
   "cell_type": "code",
   "execution_count": 28,
   "metadata": {},
   "outputs": [
    {
     "name": "stdout",
     "output_type": "stream",
     "text": [
      "========================================================= \n",
      " RandomUnderSampler\n",
      "            accuracy  weighted_precision  weighted_recall\n",
      "parameter                                                \n",
      "y_graduate  0.620028            0.914458         0.620028\n",
      "y_dropout   0.628947            0.867923         0.628947\n",
      "y_gpa       0.397202            0.466381         0.397202\n",
      "========================================================= \n",
      " RandomOverSampler\n",
      "            accuracy  weighted_precision  weighted_recall\n",
      "parameter                                                \n",
      "y_graduate  0.838130            0.897708         0.838130\n",
      "y_dropout   0.755944            0.843811         0.755944\n",
      "y_gpa       0.452486            0.488242         0.452486\n",
      "========================================================= \n",
      " SMOTE\n",
      "            accuracy  weighted_precision  weighted_recall\n",
      "parameter                                                \n",
      "y_graduate  0.821098            0.896456         0.821098\n",
      "y_dropout   0.780206            0.843605         0.780206\n",
      "y_gpa       0.459177            0.485374         0.459177\n",
      "========================================================= \n",
      " ADASYN\n",
      "            accuracy  weighted_precision  weighted_recall\n",
      "parameter                                                \n",
      "y_graduate  0.832993            0.895716         0.832993\n",
      "y_dropout   0.778787            0.839041         0.778787\n",
      "y_gpa       0.459109            0.484786         0.459109\n"
     ]
    }
   ],
   "source": [
    "for imb_model in imb_models:\n",
    "\n",
    "    mlp = imb_make_pipeline(\n",
    "        StandardScaler(),\n",
    "        imb_models[imb_model],\n",
    "        MLPClassifier()\n",
    "    )\n",
    "\n",
    "    print(\"=\" * 57, \"\\n\", imb_model)\n",
    "    print(cv_report(mlp, all_y, X))"
   ]
  },
  {
   "cell_type": "markdown",
   "metadata": {},
   "source": [
    "## CROSS VALIDATION RESULTS: No models do very well."
   ]
  },
  {
   "cell_type": "code",
   "execution_count": null,
   "metadata": {},
   "outputs": [],
   "source": []
  }
 ],
 "metadata": {
  "kernelspec": {
   "display_name": "project-3",
   "language": "python",
   "name": "project-3"
  },
  "language_info": {
   "codemirror_mode": {
    "name": "ipython",
    "version": 3
   },
   "file_extension": ".py",
   "mimetype": "text/x-python",
   "name": "python",
   "nbconvert_exporter": "python",
   "pygments_lexer": "ipython3",
   "version": "3.7.5"
  }
 },
 "nbformat": 4,
 "nbformat_minor": 4
}
