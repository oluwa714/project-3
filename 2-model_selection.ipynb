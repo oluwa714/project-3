{
 "cells": [
  {
   "cell_type": "code",
   "execution_count": 46,
   "metadata": {},
   "outputs": [],
   "source": [
    "import os\n",
    "import numpy as np\n",
    "import pandas as pd\n",
    "\n",
    "from imblearn.pipeline import make_pipeline as imb_make_pipeline\n",
    "from imblearn.under_sampling import RandomUnderSampler\n",
    "from imblearn.over_sampling import RandomOverSampler, SMOTE, ADASYN, BorderlineSMOTE\n",
    "# from imblearn.combine import SMOTEENN, SMOTETomek # Tried these, didn't work well\n",
    "from imblearn.ensemble import BalancedBaggingClassifier, BalancedRandomForestClassifier, EasyEnsembleClassifier, RUSBoostClassifier\n",
    "from imblearn.metrics import classification_report_imbalanced, make_index_balanced_accuracy\n",
    "\n",
    "from sklearn.pipeline import make_pipeline\n",
    "\n",
    "from sklearn.preprocessing import StandardScaler, OneHotEncoder\n",
    "\n",
    "from sklearn.experimental import enable_iterative_imputer\n",
    "from sklearn.impute import IterativeImputer #, SimpleImputer KNNImputer\n",
    "\n",
    "# from sklearn.decomposition import PCA\n",
    "\n",
    "from sklearn.model_selection import train_test_split, cross_validate, cross_val_score\n",
    "\n",
    "from sklearn.dummy import DummyClassifier, DummyRegressor\n",
    "from sklearn.linear_model import LogisticRegression, RidgeClassifier #, LinearRegression, MultiTaskLassoCV\n",
    "from sklearn.tree import DecisionTreeClassifier #, DecisionTreeRegressor\n",
    "from sklearn.ensemble import RandomForestClassifier #, RandomForestRegressor\n",
    "from sklearn.neural_network import MLPClassifier\n",
    "\n",
    "from sklearn.metrics import classification_report, make_scorer, accuracy_score, precision_score, recall_score\n",
    "\n",
    "import warnings\n",
    "warnings.filterwarnings('ignore')"
   ]
  },
  {
   "cell_type": "code",
   "execution_count": 47,
   "metadata": {},
   "outputs": [],
   "source": [
    "file_path = os.path.join(\"clean_student_data.csv\")\n",
    "\n",
    "df = pd.read_csv(file_path, index_col=\"STU_ID\")"
   ]
  },
  {
   "cell_type": "markdown",
   "metadata": {},
   "source": [
    "# EDA"
   ]
  },
  {
   "cell_type": "code",
   "execution_count": 3,
   "metadata": {},
   "outputs": [
    {
     "data": {
      "text/plain": [
       "BYSEX       int64\n",
       "BYRACE      int64\n",
       "BYSTLANG    int64\n",
       "BYPARED     int64\n",
       "BYINCOME    int64\n",
       "BYURBAN     int64\n",
       "BYREGION    int64\n",
       "BYRISKFC    int64\n",
       "BYS34A      int64\n",
       "BYS34B      int64\n",
       "BYWRKHRS    int64\n",
       "BYS42       int64\n",
       "BYS43       int64\n",
       "BYTVVIGM    int64\n",
       "BYS46B      int64\n",
       "BYS44C      int64\n",
       "BYS20E      int64\n",
       "BYS87C      int64\n",
       "BYS20D      int64\n",
       "BYS23C      int64\n",
       "BYS37       int64\n",
       "BYS27I      int64\n",
       "BYS90D      int64\n",
       "BYS38A      int64\n",
       "BYS20J      int64\n",
       "BYS24C      int64\n",
       "BYS24D      int64\n",
       "BYS54I      int64\n",
       "BYS84D      int64\n",
       "BYS84I      int64\n",
       "BYS85A      int64\n",
       "F2HSSTAT    int64\n",
       "F2EVERDO    int64\n",
       "F1RGPP2     int64\n",
       "dtype: object"
      ]
     },
     "execution_count": 3,
     "metadata": {},
     "output_type": "execute_result"
    }
   ],
   "source": [
    "df.dtypes"
   ]
  },
  {
   "cell_type": "code",
   "execution_count": 4,
   "metadata": {},
   "outputs": [
    {
     "name": "stdout",
     "output_type": "stream",
     "text": [
      " 0    7095\n",
      " 1    6994\n",
      "-1     707\n",
      "Name: BYSEX, dtype: int64\n",
      " 5    8058\n",
      " 4    2008\n",
      " 3    1779\n",
      " 2    1346\n",
      "-1     815\n",
      " 0     673\n",
      " 1     117\n",
      "Name: BYRACE, dtype: int64\n",
      " 1    11638\n",
      " 0     2343\n",
      "-1      815\n",
      "Name: BYSTLANG, dtype: int64\n",
      " 6    3193\n",
      " 2    2813\n",
      " 7    1629\n",
      " 5    1597\n",
      " 3    1539\n",
      " 4    1477\n",
      " 8     959\n",
      " 1     841\n",
      "-1     748\n",
      "Name: BYPARED, dtype: int64\n",
      "5    3049\n",
      "4    2757\n",
      "3    2642\n",
      "6    2001\n",
      "7    1679\n",
      "2    1330\n",
      "1     741\n",
      "8     523\n",
      "0      74\n",
      "Name: BYINCOME, dtype: int64\n",
      "2    7238\n",
      "1    4877\n",
      "3    2681\n",
      "Name: BYURBAN, dtype: int64\n",
      "3    5364\n",
      "2    3749\n",
      "4    3143\n",
      "1    2540\n",
      "Name: BYREGION, dtype: int64\n",
      " 0    4695\n",
      "-1    3719\n",
      " 1    3536\n",
      " 2    1740\n",
      " 3     750\n",
      " 4     293\n",
      " 5      63\n",
      "Name: BYRISKFC, dtype: int64\n",
      " 1    8992\n",
      " 2    2359\n",
      "-1    1310\n",
      " 0     872\n",
      " 5     506\n",
      " 3     487\n",
      " 4     270\n",
      "Name: BYS34A, dtype: int64\n",
      " 1    7527\n",
      " 2    2901\n",
      " 3    1244\n",
      "-1    1197\n",
      " 0     895\n",
      " 4     552\n",
      " 5     245\n",
      " 6     235\n",
      "Name: BYS34B, dtype: int64\n",
      " 0    7396\n",
      "-1    3208\n",
      " 2    1041\n",
      " 1     905\n",
      " 4     748\n",
      " 3     630\n",
      " 5     315\n",
      " 6     244\n",
      " 8     131\n",
      " 9     100\n",
      " 7      78\n",
      "Name: BYWRKHRS, dtype: int64\n",
      " 0    4724\n",
      " 1    3918\n",
      " 2    2449\n",
      " 3    1531\n",
      "-1    1493\n",
      " 4     464\n",
      " 5     217\n",
      "Name: BYS42, dtype: int64\n",
      " 1    7933\n",
      " 0    3692\n",
      "-1    1393\n",
      " 2    1204\n",
      " 3     300\n",
      " 5     145\n",
      " 4     129\n",
      "Name: BYS43, dtype: int64\n",
      " 1    3789\n",
      "-1    3314\n",
      " 2    3246\n",
      " 4    1875\n",
      " 3    1715\n",
      " 0     857\n",
      "Name: BYTVVIGM, dtype: int64\n",
      " 1    6921\n",
      " 2    2625\n",
      "-1    1875\n",
      " 3    1718\n",
      " 0    1657\n",
      "Name: BYS46B, dtype: int64\n",
      " 1    8836\n",
      " 2    2669\n",
      "-1    1718\n",
      " 3    1348\n",
      " 4     225\n",
      "Name: BYS44C, dtype: int64\n",
      " 2    8898\n",
      " 1    2037\n",
      " 3    1902\n",
      "-1    1549\n",
      " 4     410\n",
      "Name: BYS20E, dtype: int64\n",
      " 3    5009\n",
      "-1    3999\n",
      " 2    2909\n",
      " 4    2110\n",
      " 1     769\n",
      "Name: BYS87C, dtype: int64\n",
      " 2    7149\n",
      " 3    3292\n",
      " 1    2541\n",
      "-1    1475\n",
      " 4     339\n",
      "Name: BYS20D, dtype: int64\n",
      " 0    6707\n",
      " 1    6644\n",
      "-1    1445\n",
      "Name: BYS23C, dtype: int64\n",
      " 4    7256\n",
      " 3    4816\n",
      " 2    1514\n",
      "-1    1041\n",
      " 1     169\n",
      "Name: BYS37, dtype: int64\n",
      " 1    7182\n",
      " 2    5330\n",
      "-1    1448\n",
      " 3     639\n",
      " 4     197\n",
      "Name: BYS27I, dtype: int64\n",
      " 3    5004\n",
      "-1    4941\n",
      " 2    4308\n",
      " 1     543\n",
      "Name: BYS90D, dtype: int64\n",
      " 1    6941\n",
      " 2    4056\n",
      "-1    1543\n",
      " 4    1286\n",
      " 3     970\n",
      "Name: BYS38A, dtype: int64\n",
      " 3    6339\n",
      " 4    5485\n",
      "-1    1545\n",
      " 2    1082\n",
      " 1     345\n",
      "Name: BYS20J, dtype: int64\n",
      " 2    4876\n",
      " 3    4294\n",
      " 1    2074\n",
      "-1    1559\n",
      " 4    1077\n",
      " 5     916\n",
      "Name: BYS24C, dtype: int64\n",
      " 1    7530\n",
      " 2    4128\n",
      "-1    1476\n",
      " 3    1022\n",
      " 5     350\n",
      " 4     290\n",
      "Name: BYS24D, dtype: int64\n",
      " 1    6056\n",
      " 2    4577\n",
      " 3    2729\n",
      "-1    1434\n",
      "Name: BYS54I, dtype: int64\n",
      " 1    10240\n",
      "-1     2446\n",
      " 0     2110\n",
      "Name: BYS84D, dtype: int64\n",
      " 1    10642\n",
      "-1     2516\n",
      " 0     1638\n",
      "Name: BYS84I, dtype: int64\n",
      " 4    4194\n",
      " 3    3499\n",
      "-1    2828\n",
      " 2    2556\n",
      " 1    1719\n",
      "Name: BYS85A, dtype: int64\n",
      "1    13887\n",
      "0      909\n",
      "Name: F2HSSTAT, dtype: int64\n",
      "0    13286\n",
      "1     1510\n",
      "Name: F2EVERDO, dtype: int64\n",
      "2    6475\n",
      "1    4624\n",
      "3    2659\n",
      "0    1038\n",
      "Name: F1RGPP2, dtype: int64\n"
     ]
    }
   ],
   "source": [
    "for col in df.columns:\n",
    "    print(df[col].value_counts())"
   ]
  },
  {
   "cell_type": "markdown",
   "metadata": {},
   "source": [
    "# Create X and y arrays"
   ]
  },
  {
   "cell_type": "code",
   "execution_count": 5,
   "metadata": {},
   "outputs": [],
   "source": [
    "X = df[[column for column in df.columns if column not in [\"F2HSSTAT\", \"F2EVERDO\", \"F1RGPP2\"]]]\n",
    "\n",
    "y_graduate = df[\"F2HSSTAT\"]\n",
    "y_dropout = df[\"F2EVERDO\"]\n",
    "y_gpa = df[\"F1RGPP2\"]\n",
    "\n",
    "all_y = {\n",
    "    \"y_graduate\": y_graduate,\n",
    "    \"y_dropout\": y_dropout,\n",
    "    \"y_gpa\": y_gpa\n",
    "}"
   ]
  },
  {
   "cell_type": "markdown",
   "metadata": {},
   "source": [
    "# Create the pipeline for categorical data"
   ]
  },
  {
   "cell_type": "code",
   "execution_count": 6,
   "metadata": {},
   "outputs": [],
   "source": [
    "categorical_features = [column for column in df.columns if column not in [\"F2HSSTAT\", \"F2EVERDO\", \"F1RGPP2\"]]\n",
    "categorical_transformer = make_pipeline(\n",
    "    IterativeImputer(estimator=RandomForestClassifier(), missing_values=-1),\n",
    "    OneHotEncoder(drop=\"first\", sparse=False)\n",
    ")"
   ]
  },
  {
   "cell_type": "markdown",
   "metadata": {},
   "source": [
    "# Set Up Train-Test-Split Variables and Imbalanced Learn Models"
   ]
  },
  {
   "cell_type": "code",
   "execution_count": 40,
   "metadata": {},
   "outputs": [],
   "source": [
    "X_train, X_test, y_graduate_train, y_graduate_test = train_test_split(X, y_graduate, test_size=0.2, random_state=37, stratify=y_graduate)\n",
    "X_train, X_test, y_dropout_train, y_dropout_test = train_test_split(X, y_dropout, test_size=0.2, random_state=37, stratify=y_dropout)\n",
    "X_train, X_test, y_gpa_train, y_gpa_test = train_test_split(X, y_gpa, test_size=0.2, random_state=37, stratify=y_gpa)\n",
    "\n",
    "imb_models = {\n",
    "    \"RandomUnderSampler\": RandomUnderSampler(),\n",
    "    \"RandomOverSampler\": RandomOverSampler(),\n",
    "    \"SMOTE\": SMOTE(),\n",
    "    \"ADASYN\": ADASYN()\n",
    "}"
   ]
  },
  {
   "cell_type": "markdown",
   "metadata": {},
   "source": [
    "## Functions to fit and predict models and return report"
   ]
  },
  {
   "cell_type": "code",
   "execution_count": 48,
   "metadata": {},
   "outputs": [],
   "source": [
    "def train_and_score_model_tts(clf, X_train, X_test, y_train, y_test):\n",
    "\n",
    "    clf.fit(X_train, y_train)\n",
    "    \n",
    "    y_pred = clf.predict(X_test)\n",
    "    report = classification_report_imbalanced(y_test, y_pred)\n",
    "    \n",
    "    return report\n",
    "\n",
    "\n",
    "def print_report(model, all_y, X=None):\n",
    "    \n",
    "    for y in all_y:\n",
    "        print(\"=\" * 55, \"\\n\", y)\n",
    "        report = train_and_score_model_tts(model, X_train, X_test, eval(y + \"_train\"), eval(y + \"_test\"))\n",
    "        print(report)\n",
    "    \n",
    "    print(\"=\" * 55)\n",
    "    \n",
    "    \n",
    "def print_imb_report(imb_model, clf, all_y, reporter=print_report, X=None):\n",
    "    print(\"=\" * 55)\n",
    "    print(imb_model)\n",
    "    reporter(clf, all_y, X)"
   ]
  },
  {
   "cell_type": "markdown",
   "metadata": {},
   "source": [
    "## Predict using RandomForestClassifier without imbalanced learn"
   ]
  },
  {
   "cell_type": "code",
   "execution_count": 49,
   "metadata": {},
   "outputs": [
    {
     "name": "stdout",
     "output_type": "stream",
     "text": [
      "======================================================= \n",
      " y_graduate\n",
      "                   pre       rec       spe        f1       geo       iba       sup\n",
      "\n",
      "          0       0.00      0.00      1.00      0.00      0.00      0.00       182\n",
      "          1       0.94      1.00      0.00      0.97      0.00      0.00      2778\n",
      "\n",
      "avg / total       0.88      0.94      0.06      0.91      0.00      0.00      2960\n",
      "\n",
      "======================================================= \n",
      " y_dropout\n",
      "                   pre       rec       spe        f1       geo       iba       sup\n",
      "\n",
      "          0       0.90      1.00      0.00      0.95      0.00      0.00      2658\n",
      "          1       0.00      0.00      1.00      0.00      0.00      0.00       302\n",
      "\n",
      "avg / total       0.81      0.90      0.10      0.85      0.00      0.00      2960\n",
      "\n",
      "======================================================= \n",
      " y_gpa\n",
      "                   pre       rec       spe        f1       geo       iba       sup\n",
      "\n",
      "          0       0.29      0.02      1.00      0.04      0.15      0.02       208\n",
      "          1       0.54      0.63      0.76      0.58      0.69      0.47       925\n",
      "          2       0.57      0.66      0.61      0.61      0.63      0.40      1295\n",
      "          3       0.59      0.39      0.94      0.47      0.61      0.35       532\n",
      "\n",
      "avg / total       0.54      0.56      0.74      0.54      0.61      0.39      2960\n",
      "\n",
      "=======================================================\n"
     ]
    }
   ],
   "source": [
    "clf = make_pipeline(\n",
    "    StandardScaler(),\n",
    "    RandomForestClassifier()\n",
    ")\n",
    "\n",
    "print_report(clf, all_y)"
   ]
  },
  {
   "cell_type": "markdown",
   "metadata": {},
   "source": [
    "## Predict using RandomForestClassifier with imbalanced learn"
   ]
  },
  {
   "cell_type": "code",
   "execution_count": 50,
   "metadata": {},
   "outputs": [
    {
     "name": "stdout",
     "output_type": "stream",
     "text": [
      "=======================================================\n",
      "RandomUnderSampler\n",
      "======================================================= \n",
      " y_graduate\n",
      "                   pre       rec       spe        f1       geo       iba       sup\n",
      "\n",
      "          0       0.06      0.54      0.48      0.11      0.51      0.26       182\n",
      "          1       0.94      0.48      0.54      0.64      0.51      0.26      2778\n",
      "\n",
      "avg / total       0.89      0.48      0.53      0.60      0.51      0.26      2960\n",
      "\n",
      "======================================================= \n",
      " y_dropout\n",
      "                   pre       rec       spe        f1       geo       iba       sup\n",
      "\n",
      "          0       0.90      0.52      0.49      0.66      0.50      0.25      2658\n",
      "          1       0.10      0.49      0.52      0.17      0.50      0.25       302\n",
      "\n",
      "avg / total       0.82      0.51      0.49      0.61      0.50      0.25      2960\n",
      "\n",
      "======================================================= \n",
      " y_gpa\n",
      "                   pre       rec       spe        f1       geo       iba       sup\n",
      "\n",
      "          0       0.21      0.63      0.82      0.31      0.72      0.51       208\n",
      "          1       0.49      0.38      0.82      0.43      0.56      0.30       925\n",
      "          2       0.59      0.34      0.82      0.43      0.53      0.27      1295\n",
      "          3       0.45      0.71      0.81      0.55      0.76      0.57       532\n",
      "\n",
      "avg / total       0.51      0.44      0.81      0.45      0.59      0.35      2960\n",
      "\n",
      "=======================================================\n",
      "=======================================================\n",
      "RandomOverSampler\n",
      "======================================================= \n",
      " y_graduate\n",
      "                   pre       rec       spe        f1       geo       iba       sup\n",
      "\n",
      "          0       0.07      0.02      0.99      0.03      0.13      0.01       182\n",
      "          1       0.94      0.99      0.02      0.96      0.13      0.02      2778\n",
      "\n",
      "avg / total       0.89      0.93      0.08      0.90      0.13      0.02      2960\n",
      "\n",
      "======================================================= \n",
      " y_dropout\n",
      "                   pre       rec       spe        f1       geo       iba       sup\n",
      "\n",
      "          0       0.90      0.98      0.01      0.94      0.10      0.01      2658\n",
      "          1       0.05      0.01      0.98      0.02      0.10      0.01       302\n",
      "\n",
      "avg / total       0.81      0.88      0.11      0.84      0.10      0.01      2960\n",
      "\n",
      "======================================================= \n",
      " y_gpa\n",
      "                   pre       rec       spe        f1       geo       iba       sup\n",
      "\n",
      "          0       0.17      0.08      0.97      0.11      0.28      0.07       208\n",
      "          1       0.52      0.64      0.73      0.58      0.69      0.47       925\n",
      "          2       0.58      0.55      0.69      0.56      0.62      0.37      1295\n",
      "          3       0.56      0.53      0.91      0.54      0.69      0.46       532\n",
      "\n",
      "avg / total       0.53      0.54      0.76      0.53      0.63      0.40      2960\n",
      "\n",
      "=======================================================\n",
      "=======================================================\n",
      "SMOTE\n",
      "======================================================= \n",
      " y_graduate\n",
      "                   pre       rec       spe        f1       geo       iba       sup\n",
      "\n",
      "          0       0.00      0.00      1.00      0.00      0.00      0.00       182\n",
      "          1       0.94      1.00      0.00      0.97      0.00      0.00      2778\n",
      "\n",
      "avg / total       0.88      0.94      0.06      0.91      0.00      0.00      2960\n",
      "\n",
      "======================================================= \n",
      " y_dropout\n",
      "                   pre       rec       spe        f1       geo       iba       sup\n",
      "\n",
      "          0       0.90      0.99      0.00      0.94      0.06      0.00      2658\n",
      "          1       0.05      0.00      0.99      0.01      0.06      0.00       302\n",
      "\n",
      "avg / total       0.81      0.89      0.10      0.85      0.06      0.00      2960\n",
      "\n",
      "======================================================= \n",
      " y_gpa\n",
      "                   pre       rec       spe        f1       geo       iba       sup\n",
      "\n",
      "          0       0.23      0.12      0.97      0.16      0.34      0.11       208\n",
      "          1       0.53      0.61      0.76      0.57      0.68      0.45       925\n",
      "          2       0.57      0.59      0.66      0.58      0.62      0.38      1295\n",
      "          3       0.55      0.47      0.91      0.51      0.66      0.41       532\n",
      "\n",
      "avg / total       0.53      0.54      0.76      0.53      0.63      0.39      2960\n",
      "\n",
      "=======================================================\n",
      "=======================================================\n",
      "ADASYN\n",
      "======================================================= \n",
      " y_graduate\n",
      "                   pre       rec       spe        f1       geo       iba       sup\n",
      "\n",
      "          0       0.00      0.00      1.00      0.00      0.00      0.00       182\n",
      "          1       0.94      1.00      0.00      0.97      0.00      0.00      2778\n",
      "\n",
      "avg / total       0.88      0.94      0.06      0.91      0.00      0.00      2960\n",
      "\n",
      "======================================================= \n",
      " y_dropout\n",
      "                   pre       rec       spe        f1       geo       iba       sup\n",
      "\n",
      "          0       0.90      0.99      0.01      0.94      0.08      0.01      2658\n",
      "          1       0.08      0.01      0.99      0.01      0.08      0.01       302\n",
      "\n",
      "avg / total       0.81      0.89      0.11      0.85      0.08      0.01      2960\n",
      "\n",
      "======================================================= \n",
      " y_gpa\n",
      "                   pre       rec       spe        f1       geo       iba       sup\n",
      "\n",
      "          0       0.21      0.11      0.97      0.15      0.33      0.10       208\n",
      "          1       0.52      0.60      0.75      0.56      0.67      0.44       925\n",
      "          2       0.58      0.59      0.67      0.58      0.62      0.39      1295\n",
      "          3       0.57      0.50      0.92      0.53      0.67      0.44       532\n",
      "\n",
      "avg / total       0.53      0.54      0.76      0.53      0.63      0.39      2960\n",
      "\n",
      "=======================================================\n"
     ]
    }
   ],
   "source": [
    "for imb_model in imb_models:\n",
    "    \n",
    "    rus_clf = imb_make_pipeline(\n",
    "        StandardScaler(),\n",
    "        imb_models[imb_model],\n",
    "        RandomForestClassifier()\n",
    "    )\n",
    "\n",
    "    print_imb_report(imb_model, rus_clf, all_y)"
   ]
  },
  {
   "cell_type": "markdown",
   "metadata": {},
   "source": [
    "## TRAIN-TEST-SPLIT RESULTS: Does not do well."
   ]
  },
  {
   "cell_type": "markdown",
   "metadata": {},
   "source": [
    "# Cross Validation"
   ]
  },
  {
   "cell_type": "code",
   "execution_count": 33,
   "metadata": {},
   "outputs": [],
   "source": [
    "def cv_report(model, all_y, X):\n",
    "    \n",
    "    cv_accuracy_lst = []\n",
    "    cv_precision_lst = []\n",
    "    cv_recall_lst = []\n",
    "        \n",
    "    for y in all_y:\n",
    "        \n",
    "        cv_dict = cross_validate(model, X, all_y[y], scoring={\n",
    "            \"Accuracy\": \"accuracy\",\n",
    "            \"Weighted_Precision\": make_scorer(precision_score, average=\"weighted\", zero_division=0),\n",
    "            \"Weighted_Recall\": make_scorer(recall_score, average=\"weighted\", zero_division=0)\n",
    "        })\n",
    "\n",
    "        cv_accuracy = cv_dict[\"test_Accuracy\"].mean()\n",
    "        cv_accuracy_lst.append(cv_accuracy)\n",
    "        \n",
    "        cv_precision = cv_dict[\"test_Weighted_Precision\"].mean()\n",
    "        cv_precision_lst.append(cv_precision)\n",
    "        \n",
    "        cv_recall = cv_dict[\"test_Weighted_Recall\"].mean()\n",
    "        cv_recall_lst.append(cv_recall)\n",
    "    \n",
    "    return pd.DataFrame(data={\"parameter\": list(all_y.keys()), \"accuracy\": cv_accuracy_lst, \"weighted_precision\": cv_precision_lst, \"weighted_recall\": cv_recall_lst}).set_index(\"parameter\")"
   ]
  },
  {
   "cell_type": "markdown",
   "metadata": {},
   "source": [
    "## Models Not Utilizing Imbalanced Learn"
   ]
  },
  {
   "cell_type": "markdown",
   "metadata": {},
   "source": [
    "### Null Model"
   ]
  },
  {
   "cell_type": "code",
   "execution_count": 34,
   "metadata": {},
   "outputs": [
    {
     "data": {
      "text/html": [
       "<div>\n",
       "<style scoped>\n",
       "    .dataframe tbody tr th:only-of-type {\n",
       "        vertical-align: middle;\n",
       "    }\n",
       "\n",
       "    .dataframe tbody tr th {\n",
       "        vertical-align: top;\n",
       "    }\n",
       "\n",
       "    .dataframe thead th {\n",
       "        text-align: right;\n",
       "    }\n",
       "</style>\n",
       "<table border=\"1\" class=\"dataframe\">\n",
       "  <thead>\n",
       "    <tr style=\"text-align: right;\">\n",
       "      <th></th>\n",
       "      <th>accuracy</th>\n",
       "      <th>weighted_precision</th>\n",
       "      <th>weighted_recall</th>\n",
       "    </tr>\n",
       "    <tr>\n",
       "      <th>parameter</th>\n",
       "      <th></th>\n",
       "      <th></th>\n",
       "      <th></th>\n",
       "    </tr>\n",
       "  </thead>\n",
       "  <tbody>\n",
       "    <tr>\n",
       "      <th>y_graduate</th>\n",
       "      <td>0.938564</td>\n",
       "      <td>0.880903</td>\n",
       "      <td>0.938564</td>\n",
       "    </tr>\n",
       "    <tr>\n",
       "      <th>y_dropout</th>\n",
       "      <td>0.897945</td>\n",
       "      <td>0.806306</td>\n",
       "      <td>0.897945</td>\n",
       "    </tr>\n",
       "    <tr>\n",
       "      <th>y_gpa</th>\n",
       "      <td>0.437618</td>\n",
       "      <td>0.191510</td>\n",
       "      <td>0.437618</td>\n",
       "    </tr>\n",
       "  </tbody>\n",
       "</table>\n",
       "</div>"
      ],
      "text/plain": [
       "            accuracy  weighted_precision  weighted_recall\n",
       "parameter                                                \n",
       "y_graduate  0.938564            0.880903         0.938564\n",
       "y_dropout   0.897945            0.806306         0.897945\n",
       "y_gpa       0.437618            0.191510         0.437618"
      ]
     },
     "execution_count": 34,
     "metadata": {},
     "output_type": "execute_result"
    }
   ],
   "source": [
    "dc = make_pipeline(\n",
    "    StandardScaler(),\n",
    "    DummyClassifier(strategy=\"prior\")\n",
    ")\n",
    "\n",
    "\n",
    "\n",
    "cv_report(dc, all_y, X)"
   ]
  },
  {
   "cell_type": "markdown",
   "metadata": {},
   "source": [
    "### Logistic Regression"
   ]
  },
  {
   "cell_type": "code",
   "execution_count": 13,
   "metadata": {},
   "outputs": [
    {
     "data": {
      "text/html": [
       "<div>\n",
       "<style scoped>\n",
       "    .dataframe tbody tr th:only-of-type {\n",
       "        vertical-align: middle;\n",
       "    }\n",
       "\n",
       "    .dataframe tbody tr th {\n",
       "        vertical-align: top;\n",
       "    }\n",
       "\n",
       "    .dataframe thead th {\n",
       "        text-align: right;\n",
       "    }\n",
       "</style>\n",
       "<table border=\"1\" class=\"dataframe\">\n",
       "  <thead>\n",
       "    <tr style=\"text-align: right;\">\n",
       "      <th></th>\n",
       "      <th>accuracy</th>\n",
       "      <th>weighted_precision</th>\n",
       "      <th>weighted_recall</th>\n",
       "    </tr>\n",
       "    <tr>\n",
       "      <th>parameter</th>\n",
       "      <th></th>\n",
       "      <th></th>\n",
       "      <th></th>\n",
       "    </tr>\n",
       "  </thead>\n",
       "  <tbody>\n",
       "    <tr>\n",
       "      <th>y_graduate</th>\n",
       "      <td>0.937483</td>\n",
       "      <td>0.887798</td>\n",
       "      <td>0.937483</td>\n",
       "    </tr>\n",
       "    <tr>\n",
       "      <th>y_dropout</th>\n",
       "      <td>0.895309</td>\n",
       "      <td>0.864977</td>\n",
       "      <td>0.895309</td>\n",
       "    </tr>\n",
       "    <tr>\n",
       "      <th>y_gpa</th>\n",
       "      <td>0.538657</td>\n",
       "      <td>0.537834</td>\n",
       "      <td>0.538657</td>\n",
       "    </tr>\n",
       "  </tbody>\n",
       "</table>\n",
       "</div>"
      ],
      "text/plain": [
       "            accuracy  weighted_precision  weighted_recall\n",
       "parameter                                                \n",
       "y_graduate  0.937483            0.887798         0.937483\n",
       "y_dropout   0.895309            0.864977         0.895309\n",
       "y_gpa       0.538657            0.537834         0.538657"
      ]
     },
     "execution_count": 13,
     "metadata": {},
     "output_type": "execute_result"
    }
   ],
   "source": [
    "lr = make_pipeline(\n",
    "    StandardScaler(),\n",
    "    LogisticRegression()\n",
    ")\n",
    "\n",
    "cv_report(lr, all_y, X)"
   ]
  },
  {
   "cell_type": "markdown",
   "metadata": {},
   "source": [
    "### Decision Tree"
   ]
  },
  {
   "cell_type": "code",
   "execution_count": 14,
   "metadata": {},
   "outputs": [
    {
     "data": {
      "text/html": [
       "<div>\n",
       "<style scoped>\n",
       "    .dataframe tbody tr th:only-of-type {\n",
       "        vertical-align: middle;\n",
       "    }\n",
       "\n",
       "    .dataframe tbody tr th {\n",
       "        vertical-align: top;\n",
       "    }\n",
       "\n",
       "    .dataframe thead th {\n",
       "        text-align: right;\n",
       "    }\n",
       "</style>\n",
       "<table border=\"1\" class=\"dataframe\">\n",
       "  <thead>\n",
       "    <tr style=\"text-align: right;\">\n",
       "      <th></th>\n",
       "      <th>accuracy</th>\n",
       "      <th>weighted_precision</th>\n",
       "      <th>weighted_recall</th>\n",
       "    </tr>\n",
       "    <tr>\n",
       "      <th>parameter</th>\n",
       "      <th></th>\n",
       "      <th></th>\n",
       "      <th></th>\n",
       "    </tr>\n",
       "  </thead>\n",
       "  <tbody>\n",
       "    <tr>\n",
       "      <th>y_graduate</th>\n",
       "      <td>0.859487</td>\n",
       "      <td>0.894235</td>\n",
       "      <td>0.859487</td>\n",
       "    </tr>\n",
       "    <tr>\n",
       "      <th>y_dropout</th>\n",
       "      <td>0.796497</td>\n",
       "      <td>0.837608</td>\n",
       "      <td>0.796497</td>\n",
       "    </tr>\n",
       "    <tr>\n",
       "      <th>y_gpa</th>\n",
       "      <td>0.428898</td>\n",
       "      <td>0.433853</td>\n",
       "      <td>0.428898</td>\n",
       "    </tr>\n",
       "  </tbody>\n",
       "</table>\n",
       "</div>"
      ],
      "text/plain": [
       "            accuracy  weighted_precision  weighted_recall\n",
       "parameter                                                \n",
       "y_graduate  0.859487            0.894235         0.859487\n",
       "y_dropout   0.796497            0.837608         0.796497\n",
       "y_gpa       0.428898            0.433853         0.428898"
      ]
     },
     "execution_count": 14,
     "metadata": {},
     "output_type": "execute_result"
    }
   ],
   "source": [
    "dt = make_pipeline(\n",
    "    StandardScaler(),\n",
    "    DecisionTreeClassifier()\n",
    ")\n",
    "\n",
    "cv_report(dt, all_y, X)"
   ]
  },
  {
   "cell_type": "markdown",
   "metadata": {},
   "source": [
    "### Random Forest"
   ]
  },
  {
   "cell_type": "code",
   "execution_count": 15,
   "metadata": {},
   "outputs": [
    {
     "data": {
      "text/html": [
       "<div>\n",
       "<style scoped>\n",
       "    .dataframe tbody tr th:only-of-type {\n",
       "        vertical-align: middle;\n",
       "    }\n",
       "\n",
       "    .dataframe tbody tr th {\n",
       "        vertical-align: top;\n",
       "    }\n",
       "\n",
       "    .dataframe thead th {\n",
       "        text-align: right;\n",
       "    }\n",
       "</style>\n",
       "<table border=\"1\" class=\"dataframe\">\n",
       "  <thead>\n",
       "    <tr style=\"text-align: right;\">\n",
       "      <th></th>\n",
       "      <th>accuracy</th>\n",
       "      <th>weighted_precision</th>\n",
       "      <th>weighted_recall</th>\n",
       "    </tr>\n",
       "    <tr>\n",
       "      <th>parameter</th>\n",
       "      <th></th>\n",
       "      <th></th>\n",
       "      <th></th>\n",
       "    </tr>\n",
       "  </thead>\n",
       "  <tbody>\n",
       "    <tr>\n",
       "      <th>y_graduate</th>\n",
       "      <td>0.920112</td>\n",
       "      <td>0.884553</td>\n",
       "      <td>0.920112</td>\n",
       "    </tr>\n",
       "    <tr>\n",
       "      <th>y_dropout</th>\n",
       "      <td>0.875303</td>\n",
       "      <td>0.852920</td>\n",
       "      <td>0.875303</td>\n",
       "    </tr>\n",
       "    <tr>\n",
       "      <th>y_gpa</th>\n",
       "      <td>0.545551</td>\n",
       "      <td>0.525191</td>\n",
       "      <td>0.545551</td>\n",
       "    </tr>\n",
       "  </tbody>\n",
       "</table>\n",
       "</div>"
      ],
      "text/plain": [
       "            accuracy  weighted_precision  weighted_recall\n",
       "parameter                                                \n",
       "y_graduate  0.920112            0.884553         0.920112\n",
       "y_dropout   0.875303            0.852920         0.875303\n",
       "y_gpa       0.545551            0.525191         0.545551"
      ]
     },
     "execution_count": 15,
     "metadata": {},
     "output_type": "execute_result"
    }
   ],
   "source": [
    "rf = make_pipeline(\n",
    "    StandardScaler(),\n",
    "    RandomForestClassifier()\n",
    ")\n",
    "\n",
    "cv_report(rf, all_y, X)"
   ]
  },
  {
   "cell_type": "markdown",
   "metadata": {},
   "source": [
    "### Multi-layer Perceptron Classifier"
   ]
  },
  {
   "cell_type": "code",
   "execution_count": 16,
   "metadata": {},
   "outputs": [
    {
     "data": {
      "text/html": [
       "<div>\n",
       "<style scoped>\n",
       "    .dataframe tbody tr th:only-of-type {\n",
       "        vertical-align: middle;\n",
       "    }\n",
       "\n",
       "    .dataframe tbody tr th {\n",
       "        vertical-align: top;\n",
       "    }\n",
       "\n",
       "    .dataframe thead th {\n",
       "        text-align: right;\n",
       "    }\n",
       "</style>\n",
       "<table border=\"1\" class=\"dataframe\">\n",
       "  <thead>\n",
       "    <tr style=\"text-align: right;\">\n",
       "      <th></th>\n",
       "      <th>accuracy</th>\n",
       "      <th>weighted_precision</th>\n",
       "      <th>weighted_recall</th>\n",
       "    </tr>\n",
       "    <tr>\n",
       "      <th>parameter</th>\n",
       "      <th></th>\n",
       "      <th></th>\n",
       "      <th></th>\n",
       "    </tr>\n",
       "  </thead>\n",
       "  <tbody>\n",
       "    <tr>\n",
       "      <th>y_graduate</th>\n",
       "      <td>0.901458</td>\n",
       "      <td>0.898288</td>\n",
       "      <td>0.901458</td>\n",
       "    </tr>\n",
       "    <tr>\n",
       "      <th>y_dropout</th>\n",
       "      <td>0.842252</td>\n",
       "      <td>0.847651</td>\n",
       "      <td>0.842252</td>\n",
       "    </tr>\n",
       "    <tr>\n",
       "      <th>y_gpa</th>\n",
       "      <td>0.506825</td>\n",
       "      <td>0.504730</td>\n",
       "      <td>0.506825</td>\n",
       "    </tr>\n",
       "  </tbody>\n",
       "</table>\n",
       "</div>"
      ],
      "text/plain": [
       "            accuracy  weighted_precision  weighted_recall\n",
       "parameter                                                \n",
       "y_graduate  0.901458            0.898288         0.901458\n",
       "y_dropout   0.842252            0.847651         0.842252\n",
       "y_gpa       0.506825            0.504730         0.506825"
      ]
     },
     "execution_count": 16,
     "metadata": {},
     "output_type": "execute_result"
    }
   ],
   "source": [
    "mlp = make_pipeline(\n",
    "    StandardScaler(),\n",
    "    MLPClassifier()\n",
    ")\n",
    "\n",
    "cv_report(mlp, all_y, X)"
   ]
  },
  {
   "cell_type": "markdown",
   "metadata": {},
   "source": [
    "## Models Utilizing Imbalanced Learn"
   ]
  },
  {
   "cell_type": "markdown",
   "metadata": {},
   "source": [
    "### Null Model"
   ]
  },
  {
   "cell_type": "code",
   "execution_count": 17,
   "metadata": {},
   "outputs": [
    {
     "name": "stdout",
     "output_type": "stream",
     "text": [
      "=======================================================\n",
      "SMOTE\n"
     ]
    },
    {
     "data": {
      "text/html": [
       "<div>\n",
       "<style scoped>\n",
       "    .dataframe tbody tr th:only-of-type {\n",
       "        vertical-align: middle;\n",
       "    }\n",
       "\n",
       "    .dataframe tbody tr th {\n",
       "        vertical-align: top;\n",
       "    }\n",
       "\n",
       "    .dataframe thead th {\n",
       "        text-align: right;\n",
       "    }\n",
       "</style>\n",
       "<table border=\"1\" class=\"dataframe\">\n",
       "  <thead>\n",
       "    <tr style=\"text-align: right;\">\n",
       "      <th></th>\n",
       "      <th>accuracy</th>\n",
       "      <th>weighted_precision</th>\n",
       "      <th>weighted_recall</th>\n",
       "    </tr>\n",
       "    <tr>\n",
       "      <th>parameter</th>\n",
       "      <th></th>\n",
       "      <th></th>\n",
       "      <th></th>\n",
       "    </tr>\n",
       "  </thead>\n",
       "  <tbody>\n",
       "    <tr>\n",
       "      <th>y_graduate</th>\n",
       "      <td>0.061436</td>\n",
       "      <td>0.003774</td>\n",
       "      <td>0.061436</td>\n",
       "    </tr>\n",
       "    <tr>\n",
       "      <th>y_dropout</th>\n",
       "      <td>0.897945</td>\n",
       "      <td>0.806306</td>\n",
       "      <td>0.897945</td>\n",
       "    </tr>\n",
       "    <tr>\n",
       "      <th>y_gpa</th>\n",
       "      <td>0.070154</td>\n",
       "      <td>0.004922</td>\n",
       "      <td>0.070154</td>\n",
       "    </tr>\n",
       "  </tbody>\n",
       "</table>\n",
       "</div>"
      ],
      "text/plain": [
       "            accuracy  weighted_precision  weighted_recall\n",
       "parameter                                                \n",
       "y_graduate  0.061436            0.003774         0.061436\n",
       "y_dropout   0.897945            0.806306         0.897945\n",
       "y_gpa       0.070154            0.004922         0.070154"
      ]
     },
     "execution_count": 17,
     "metadata": {},
     "output_type": "execute_result"
    }
   ],
   "source": [
    "dc = imb_make_pipeline(\n",
    "    StandardScaler(),\n",
    "    SMOTE(),\n",
    "    DummyClassifier(strategy=\"prior\")\n",
    ")\n",
    "\n",
    "print(\"=\" * 55)\n",
    "print(\"SMOTE\")\n",
    "cv_report(dc, all_y, X)"
   ]
  },
  {
   "cell_type": "markdown",
   "metadata": {},
   "source": [
    "### Logistic Regression"
   ]
  },
  {
   "cell_type": "code",
   "execution_count": 18,
   "metadata": {},
   "outputs": [
    {
     "name": "stdout",
     "output_type": "stream",
     "text": [
      "========================================================= \n",
      " RandomUnderSampler\n",
      "            accuracy  weighted_precision  weighted_recall\n",
      "parameter                                                \n",
      "y_graduate  0.653213            0.920688         0.653213\n",
      "y_dropout   0.674975            0.882582         0.674975\n",
      "y_gpa       0.411395            0.490394         0.411395\n",
      "========================================================= \n",
      " RandomOverSampler\n",
      "            accuracy  weighted_precision  weighted_recall\n",
      "parameter                                                \n",
      "y_graduate  0.657404            0.921156         0.657404\n",
      "y_dropout   0.673624            0.882638         0.673624\n",
      "y_gpa       0.420046            0.497278         0.420046\n",
      "========================================================= \n",
      " SMOTE\n",
      "            accuracy  weighted_precision  weighted_recall\n",
      "parameter                                                \n",
      "y_graduate  0.667135            0.920996         0.667135\n",
      "y_dropout   0.675246            0.882801         0.675246\n",
      "y_gpa       0.423357            0.498874         0.423357\n",
      "========================================================= \n",
      " ADASYN\n",
      "            accuracy  weighted_precision  weighted_recall\n",
      "parameter                                                \n",
      "y_graduate  0.654699            0.920996         0.654699\n",
      "y_dropout   0.673555            0.883227         0.673555\n",
      "y_gpa       0.403419            0.496610         0.403419\n"
     ]
    }
   ],
   "source": [
    "for imb_model in imb_models:\n",
    "    \n",
    "    lr = imb_make_pipeline(\n",
    "        StandardScaler(),\n",
    "        imb_models[imb_model],\n",
    "        LogisticRegression()\n",
    "    )\n",
    "\n",
    "    print(\"=\" * 57, \"\\n\", imb_model)\n",
    "    print(cv_report(lr, all_y, X))"
   ]
  },
  {
   "cell_type": "markdown",
   "metadata": {},
   "source": [
    "### Decision Tree"
   ]
  },
  {
   "cell_type": "code",
   "execution_count": 19,
   "metadata": {},
   "outputs": [
    {
     "name": "stdout",
     "output_type": "stream",
     "text": [
      "========================================================= \n",
      " RandomUnderSampler\n",
      "            accuracy  weighted_precision  weighted_recall\n",
      "parameter                                                \n",
      "y_graduate  0.597051            0.907008         0.597051\n",
      "y_dropout   0.593468            0.851847         0.593468\n",
      "y_gpa       0.379495            0.436668         0.379495\n",
      "========================================================= \n",
      " RandomOverSampler\n",
      "            accuracy  weighted_precision  weighted_recall\n",
      "parameter                                                \n",
      "y_graduate  0.859284            0.889869         0.859284\n",
      "y_dropout   0.794806            0.832651         0.794806\n",
      "y_gpa       0.425790            0.433195         0.425790\n",
      "========================================================= \n",
      " SMOTE\n",
      "            accuracy  weighted_precision  weighted_recall\n",
      "parameter                                                \n",
      "y_graduate  0.857730            0.893696         0.857730\n",
      "y_dropout   0.791157            0.837618         0.791157\n",
      "y_gpa       0.428831            0.437887         0.428831\n",
      "========================================================= \n",
      " ADASYN\n",
      "            accuracy  weighted_precision  weighted_recall\n",
      "parameter                                                \n",
      "y_graduate  0.855770            0.891527         0.855770\n",
      "y_dropout   0.798119            0.837017         0.798119\n",
      "y_gpa       0.428020            0.435789         0.428020\n"
     ]
    }
   ],
   "source": [
    "for imb_model in imb_models:\n",
    "    \n",
    "    dt = imb_make_pipeline(\n",
    "        StandardScaler(),\n",
    "        imb_models[imb_model],\n",
    "        DecisionTreeClassifier()\n",
    "    )\n",
    "\n",
    "    print(\"=\" * 57, \"\\n\", imb_model)\n",
    "    print(cv_report(dt, all_y, X))"
   ]
  },
  {
   "cell_type": "markdown",
   "metadata": {},
   "source": [
    "### Random Forest"
   ]
  },
  {
   "cell_type": "code",
   "execution_count": 20,
   "metadata": {},
   "outputs": [
    {
     "name": "stdout",
     "output_type": "stream",
     "text": [
      "========================================================= \n",
      " RandomUnderSampler\n",
      "            accuracy  weighted_precision  weighted_recall\n",
      "parameter                                                \n",
      "y_graduate  0.652335            0.923621         0.652335\n",
      "y_dropout   0.675855            0.881411         0.675855\n",
      "y_gpa       0.427208            0.499547         0.427208\n",
      "========================================================= \n",
      " RandomOverSampler\n",
      "            accuracy  weighted_precision  weighted_recall\n",
      "parameter                                                \n",
      "y_graduate  0.911934            0.889602         0.911934\n",
      "y_dropout   0.859893            0.834445         0.859893\n",
      "y_gpa       0.534400            0.526896         0.534400\n",
      "========================================================= \n",
      " SMOTE\n",
      "            accuracy  weighted_precision  weighted_recall\n",
      "parameter                                                \n",
      "y_graduate  0.922140            0.892193         0.922140\n",
      "y_dropout   0.872734            0.839342         0.872734\n",
      "y_gpa       0.537035            0.528496         0.537035\n",
      "========================================================= \n",
      " ADASYN\n",
      "            accuracy  weighted_precision  weighted_recall\n",
      "parameter                                                \n",
      "y_graduate  0.920856            0.885103         0.920856\n",
      "y_dropout   0.874289            0.839518         0.874289\n",
      "y_gpa       0.530547            0.522645         0.530547\n"
     ]
    }
   ],
   "source": [
    "for imb_model in imb_models:\n",
    "    \n",
    "    rf = imb_make_pipeline(\n",
    "        StandardScaler(),\n",
    "        imb_models[imb_model],\n",
    "        RandomForestClassifier()\n",
    "    )\n",
    "\n",
    "    print(\"=\" * 57, \"\\n\", imb_model)\n",
    "    print(cv_report(rf, all_y, X))"
   ]
  },
  {
   "cell_type": "markdown",
   "metadata": {},
   "source": [
    "### Balanced Bagging Classifier"
   ]
  },
  {
   "cell_type": "code",
   "execution_count": 21,
   "metadata": {},
   "outputs": [
    {
     "name": "stdout",
     "output_type": "stream",
     "text": [
      "            accuracy  weighted_precision  weighted_recall\n",
      "parameter                                                \n",
      "y_graduate  0.681397            0.916794         0.681397\n",
      "y_dropout   0.750537            0.860599         0.750537\n",
      "y_gpa       0.440523            0.492922         0.440523\n"
     ]
    }
   ],
   "source": [
    "rf = imb_make_pipeline(\n",
    "    StandardScaler(),\n",
    "    BalancedBaggingClassifier()\n",
    ")\n",
    "\n",
    "print(cv_report(rf, all_y, X))"
   ]
  },
  {
   "cell_type": "markdown",
   "metadata": {},
   "source": [
    "### Balanced Random Forest"
   ]
  },
  {
   "cell_type": "code",
   "execution_count": 22,
   "metadata": {},
   "outputs": [
    {
     "name": "stdout",
     "output_type": "stream",
     "text": [
      "            accuracy  weighted_precision  weighted_recall\n",
      "parameter                                                \n",
      "y_graduate  0.666393            0.926488         0.666393\n",
      "y_dropout   0.661391            0.883749         0.661391\n",
      "y_gpa       0.430656            0.510755         0.430656\n"
     ]
    }
   ],
   "source": [
    "rf = imb_make_pipeline(\n",
    "    StandardScaler(),\n",
    "    BalancedRandomForestClassifier()\n",
    ")\n",
    "\n",
    "print(cv_report(rf, all_y, X))"
   ]
  },
  {
   "cell_type": "markdown",
   "metadata": {},
   "source": [
    "### Easy Ensemble Classifier"
   ]
  },
  {
   "cell_type": "code",
   "execution_count": 23,
   "metadata": {},
   "outputs": [
    {
     "name": "stdout",
     "output_type": "stream",
     "text": [
      "            accuracy  weighted_precision  weighted_recall\n",
      "parameter                                                \n",
      "y_graduate  0.639222            0.927076         0.639222\n",
      "y_dropout   0.653480            0.883229         0.653480\n",
      "y_gpa       0.430927            0.512429         0.430927\n"
     ]
    }
   ],
   "source": [
    "rf = imb_make_pipeline(\n",
    "    StandardScaler(),\n",
    "    EasyEnsembleClassifier()\n",
    ")\n",
    "\n",
    "print(cv_report(rf, all_y, X))"
   ]
  },
  {
   "cell_type": "markdown",
   "metadata": {},
   "source": [
    "### RUS Boost Classifier"
   ]
  },
  {
   "cell_type": "code",
   "execution_count": 24,
   "metadata": {},
   "outputs": [
    {
     "name": "stdout",
     "output_type": "stream",
     "text": [
      "            accuracy  weighted_precision  weighted_recall\n",
      "parameter                                                \n",
      "y_graduate  0.649563            0.922578         0.649563\n",
      "y_dropout   0.651925            0.879158         0.651925\n",
      "y_gpa       0.420652            0.506383         0.420652\n"
     ]
    }
   ],
   "source": [
    "rf = imb_make_pipeline(\n",
    "    StandardScaler(),\n",
    "    RUSBoostClassifier()\n",
    ")\n",
    "\n",
    "print(cv_report(rf, all_y, X))"
   ]
  },
  {
   "cell_type": "markdown",
   "metadata": {},
   "source": [
    "### Multi-layer Perceptron Classifier with Oversampling"
   ]
  },
  {
   "cell_type": "code",
   "execution_count": 25,
   "metadata": {},
   "outputs": [
    {
     "name": "stdout",
     "output_type": "stream",
     "text": [
      "========================================================= \n",
      " RandomUnderSampler\n",
      "            accuracy  weighted_precision  weighted_recall\n",
      "parameter                                                \n",
      "y_graduate  0.638279            0.915792         0.638279\n",
      "y_dropout   0.641249            0.869309         0.641249\n",
      "y_gpa       0.399972            0.470423         0.399972\n",
      "========================================================= \n",
      " RandomOverSampler\n",
      "            accuracy  weighted_precision  weighted_recall\n",
      "parameter                                                \n",
      "y_graduate  0.825761            0.898413         0.825761\n",
      "y_dropout   0.770541            0.846965         0.770541\n",
      "y_gpa       0.456540            0.493162         0.456540\n",
      "========================================================= \n",
      " SMOTE\n",
      "            accuracy  weighted_precision  weighted_recall\n",
      "parameter                                                \n",
      "y_graduate  0.841238            0.895525         0.841238\n",
      "y_dropout   0.783181            0.841437         0.783181\n",
      "y_gpa       0.473505            0.502082         0.473505\n",
      "========================================================= \n",
      " ADASYN\n",
      "            accuracy  weighted_precision  weighted_recall\n",
      "parameter                                                \n",
      "y_graduate  0.841102            0.895944         0.841102\n",
      "y_dropout   0.773244            0.842838         0.773244\n",
      "y_gpa       0.465868            0.492281         0.465868\n"
     ]
    }
   ],
   "source": [
    "for imb_model in imb_models:\n",
    "\n",
    "    mlp = imb_make_pipeline(\n",
    "        StandardScaler(),\n",
    "        imb_models[imb_model],\n",
    "        MLPClassifier()\n",
    "    )\n",
    "\n",
    "    print(\"=\" * 57, \"\\n\", imb_model)\n",
    "    print(cv_report(mlp, all_y, X))"
   ]
  },
  {
   "cell_type": "code",
   "execution_count": 26,
   "metadata": {},
   "outputs": [
    {
     "name": "stdout",
     "output_type": "stream",
     "text": [
      "========================================================= \n",
      " RandomUnderSampler\n",
      "            accuracy  weighted_precision  weighted_recall\n",
      "parameter                                                \n",
      "y_graduate  0.635640            0.917057         0.635640\n",
      "y_dropout   0.631245            0.871489         0.631245\n",
      "y_gpa       0.407813            0.470723         0.407813\n",
      "========================================================= \n",
      " RandomOverSampler\n",
      "            accuracy  weighted_precision  weighted_recall\n",
      "parameter                                                \n",
      "y_graduate  0.834073            0.898887         0.834073\n",
      "y_dropout   0.769934            0.849259         0.769934\n",
      "y_gpa       0.460461            0.490548         0.460461\n",
      "========================================================= \n",
      " SMOTE\n",
      "            accuracy  weighted_precision  weighted_recall\n",
      "parameter                                                \n",
      "y_graduate  0.845428            0.896582         0.845428\n",
      "y_dropout   0.773177            0.837016         0.773177\n",
      "y_gpa       0.463636            0.494678         0.463636\n",
      "========================================================= \n",
      " ADASYN\n",
      "            accuracy  weighted_precision  weighted_recall\n",
      "parameter                                                \n",
      "y_graduate  0.841576            0.896246         0.841576\n",
      "y_dropout   0.781017            0.841868         0.781017\n",
      "y_gpa       0.461677            0.491979         0.461677\n"
     ]
    }
   ],
   "source": [
    "for imb_model in imb_models:\n",
    "\n",
    "    mlp = imb_make_pipeline(\n",
    "        StandardScaler(),\n",
    "        imb_models[imb_model],\n",
    "        MLPClassifier()\n",
    "    )\n",
    "\n",
    "    print(\"=\" * 57, \"\\n\", imb_model)\n",
    "    print(cv_report(mlp, all_y, X))"
   ]
  },
  {
   "cell_type": "markdown",
   "metadata": {},
   "source": [
    "# Best Model"
   ]
  },
  {
   "cell_type": "code",
   "execution_count": null,
   "metadata": {},
   "outputs": [],
   "source": []
  }
 ],
 "metadata": {
  "kernelspec": {
   "display_name": "project-3",
   "language": "python",
   "name": "project-3"
  },
  "language_info": {
   "codemirror_mode": {
    "name": "ipython",
    "version": 3
   },
   "file_extension": ".py",
   "mimetype": "text/x-python",
   "name": "python",
   "nbconvert_exporter": "python",
   "pygments_lexer": "ipython3",
   "version": "3.7.5"
  }
 },
 "nbformat": 4,
 "nbformat_minor": 4
}
