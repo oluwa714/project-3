{
 "cells": [
  {
   "cell_type": "code",
   "execution_count": 1,
   "metadata": {},
   "outputs": [],
   "source": [
    "import os\n",
    "import pandas as pd\n",
    "\n",
    "from sklearn.compose import ColumnTransformer, make_column_transformer\n",
    "\n",
    "from sklearn.pipeline import Pipeline, make_pipeline\n",
    "\n",
    "from sklearn.preprocessing import StandardScaler, OneHotEncoder\n",
    "\n",
    "from sklearn.experimental import enable_iterative_imputer\n",
    "from sklearn.impute import SimpleImputer, IterativeImputer, KNNImputer\n",
    "\n",
    "from sklearn.decomposition import PCA\n",
    "\n",
    "from sklearn.model_selection import train_test_split\n",
    "from sklearn.model_selection import cross_validate\n",
    "\n",
    "from sklearn.dummy import DummyRegressor\n",
    "from sklearn.linear_model import LinearRegression\n",
    "from sklearn.linear_model import LogisticRegression\n",
    "from sklearn.linear_model import MultiTaskLassoCV\n",
    "from sklearn.tree import DecisionTreeRegressor\n",
    "from sklearn.ensemble import RandomForestRegressor\n",
    "\n"
   ]
  },
  {
   "cell_type": "code",
   "execution_count": 2,
   "metadata": {},
   "outputs": [],
   "source": [
    "file_path = os.path.join(\"clean_student_data.csv\")\n",
    "\n",
    "df = pd.read_csv(file_path, index_col=\"STU_ID\")"
   ]
  },
  {
   "cell_type": "markdown",
   "metadata": {},
   "source": [
    "## Create X and y arrays"
   ]
  },
  {
   "cell_type": "code",
   "execution_count": 3,
   "metadata": {},
   "outputs": [],
   "source": [
    "X = df[[column for column in df.columns if column not in [\"F2HSSTAT\", \"F2EVERDO\", \"F1RGPP2\"]]].values\n",
    "\n",
    "y = df[[\"F2HSSTAT\", \"F2EVERDO\", \"F1RGPP2\"]].values"
   ]
  },
  {
   "cell_type": "markdown",
   "metadata": {},
   "source": [
    "## Create the preprocessor"
   ]
  },
  {
   "cell_type": "code",
   "execution_count": 20,
   "metadata": {},
   "outputs": [],
   "source": [
    "# initialize variables for imputer\n",
    "\n",
    "max_iterations = 20\n",
    "nearest_features = 5\n",
    "non_category_initial_strategy = \"median\"\n",
    "category_initial_strategy = \"most_frequent\"\n",
    "sparse_bool = False\n",
    "\n",
    "\n",
    "# Create the preprocessing pipelines for numeric data.\n",
    "\n",
    "BYHMWRK_feature = [\"BYHMWRK\"]\n",
    "BYHMWRK_transformer = Pipeline(steps=[\n",
    "#     (\"imputer\", SimpleImputer(strategy='median')),\n",
    "    (\"imputer\", IterativeImputer(missing_values=-1, max_iter=max_iterations, n_nearest_features=nearest_features, initial_strategy=non_category_initial_strategy, min_value=0, max_value=45)),\n",
    "    (\"scaler\", StandardScaler())\n",
    "])\n",
    "\n",
    "F1RGPP2_feature = [\"F1RGPP2\"]\n",
    "F1RGPP2_transformer = Pipeline(steps=[\n",
    "#     (\"imputer\", SimpleImputer(strategy='median')),\n",
    "    (\"imputer\", IterativeImputer(missing_values=-1, max_iter=max_iterations, n_nearest_features=nearest_features, initial_strategy=non_category_initial_strategy, min_value=0, max_value=6)),\n",
    "    (\"scaler\", StandardScaler())\n",
    "])\n",
    "\n",
    "\n",
    "# Create the preprocessing pipelines for categorical data.\n",
    "\n",
    "# 0 and 1\n",
    "zero_one_features = [\"BYSTLANG\", \"BYS23C\", \"BYS84D\", \"BYS84I\"]\n",
    "zero_one_transformer = Pipeline(steps=[\n",
    "    (\"imputer\", IterativeImputer(missing_values=-1, max_iter=max_iterations, n_nearest_features=nearest_features, initial_strategy=category_initial_strategy, min_value=0, max_value=1)),\n",
    "    (\"onehot\", OneHotEncoder(drop=\"first\", sparse=sparse_bool))\n",
    "])\n",
    "\n",
    "# 1 and 2\n",
    "one_two_features = [\"BYSEX\"]\n",
    "one_two_transformer = Pipeline(steps=[\n",
    "    (\"imputer\", IterativeImputer(missing_values=-1, max_iter=max_iterations, n_nearest_features=nearest_features, initial_strategy=category_initial_strategy, min_value=1, max_value=2)),\n",
    "    (\"onehot\", OneHotEncoder(drop=\"first\", sparse=sparse_bool))\n",
    "])\n",
    "\n",
    "# 1 through 3\n",
    "one_three_features = [\"BYURBAN\", \"BYS90D\", \"BYS54I\"]\n",
    "one_three_transformer = Pipeline(steps=[\n",
    "    (\"imputer\", IterativeImputer(missing_values=-1, max_iter=max_iterations, n_nearest_features=nearest_features, initial_strategy=category_initial_strategy, min_value=1, max_value=3)),\n",
    "    (\"onehot\", OneHotEncoder(drop=\"first\", sparse=sparse_bool))\n",
    "])\n",
    "\n",
    "# 1 through 4\n",
    "one_four_features = [\"BYREGION\", \"BYS44C\", \"BYS20E\", \"BYS87C\", \"BYS20D\", \"BYS37\", \"BYS27I\", \"BYS38A\", \"BYS20J\", \"BYS85A\"]\n",
    "one_four_transformer = Pipeline(steps=[\n",
    "    (\"imputer\", IterativeImputer(missing_values=-1, max_iter=max_iterations, n_nearest_features=nearest_features, initial_strategy=category_initial_strategy, min_value=1, max_value=4)),\n",
    "    (\"onehot\", OneHotEncoder(drop=\"first\", sparse=sparse_bool))\n",
    "])\n",
    "\n",
    "# 0 through 5\n",
    "zero_five_features = [\"BYRISKFC\"]\n",
    "zero_five_transformer = Pipeline(steps=[\n",
    "    (\"imputer\", IterativeImputer(missing_values=-1, max_iter=max_iterations, n_nearest_features=nearest_features, initial_strategy=category_initial_strategy, min_value=0, max_value=5)),\n",
    "    (\"onehot\", OneHotEncoder(drop=\"first\", sparse=sparse_bool))\n",
    "])\n",
    "\n",
    "# 1 through 5\n",
    "one_five_features = [\"BYS24C\", \"BYS24D\"]\n",
    "one_five_transformer = Pipeline(steps=[\n",
    "    (\"imputer\", IterativeImputer(missing_values=-1, max_iter=max_iterations, n_nearest_features=nearest_features, initial_strategy=category_initial_strategy, min_value=1, max_value=5)),\n",
    "    (\"onehot\", OneHotEncoder(drop=\"first\", sparse=sparse_bool))\n",
    "])\n",
    "\n",
    "# 0 through 6\n",
    "zero_six_features = [\"BYS46B\"]\n",
    "zero_six_transformer = Pipeline(steps=[\n",
    "    (\"imputer\", IterativeImputer(missing_values=-1, max_iter=max_iterations, n_nearest_features=nearest_features, initial_strategy=category_initial_strategy, min_value=0, max_value=6)),\n",
    "    (\"onehot\", OneHotEncoder(drop=\"first\", sparse=sparse_bool))\n",
    "])\n",
    "\n",
    "# 1 through 7\n",
    "one_seven_features = [\"BYRACE\"]\n",
    "one_seven_transformer = Pipeline(steps=[\n",
    "    (\"imputer\", IterativeImputer(missing_values=-1, max_iter=max_iterations, n_nearest_features=nearest_features, initial_strategy=category_initial_strategy, min_value=1, max_value=7)),\n",
    "    (\"onehot\", OneHotEncoder(drop=\"first\", sparse=sparse_bool))\n",
    "])\n",
    "\n",
    "# 0 through 8\n",
    "zero_eight_features = [\"BYTVVIGM\"]\n",
    "zero_eight_transformer = Pipeline(steps=[\n",
    "    (\"imputer\", IterativeImputer(missing_values=-1, max_iter=max_iterations, n_nearest_features=nearest_features, initial_strategy=category_initial_strategy, min_value=0, max_value=8)),\n",
    "    (\"onehot\", OneHotEncoder(drop=\"first\", sparse=sparse_bool))\n",
    "])\n",
    "\n",
    "# 1 through 8\n",
    "one_eight_features = [\"BYPARED\"]\n",
    "one_eight_transformer = Pipeline(steps=[\n",
    "    (\"imputer\", IterativeImputer(missing_values=-1, max_iter=max_iterations, n_nearest_features=nearest_features, initial_strategy=category_initial_strategy, min_value=1, max_value=8)),\n",
    "    (\"onehot\", OneHotEncoder(drop=\"first\", sparse=sparse_bool))\n",
    "])\n",
    "\n",
    "# 0 through 9\n",
    "zero_nine_features = [\"BYWRKHRS\"]\n",
    "zero_nine_transformer = Pipeline(steps=[\n",
    "    (\"imputer\", IterativeImputer(missing_values=-1, max_iter=max_iterations, n_nearest_features=nearest_features, initial_strategy=category_initial_strategy, min_value=0, max_value=9)),\n",
    "    (\"onehot\", OneHotEncoder(drop=\"first\", sparse=sparse_bool))\n",
    "])\n",
    "\n",
    "# 1 through 13\n",
    "one_thirteen_features = [\"BYINCOME\"]\n",
    "one_thirteen_transformer = Pipeline(steps=[\n",
    "    (\"imputer\", IterativeImputer(missing_values=-1, max_iter=max_iterations, n_nearest_features=nearest_features, initial_strategy=category_initial_strategy, min_value=1, max_value=13)),\n",
    "    (\"onehot\", OneHotEncoder(drop=\"first\", sparse=sparse_bool))\n",
    "])\n",
    "\n",
    "# 0 through 21\n",
    "zero_twentyone_features = [\"BYS42\", \"BYS43\"]\n",
    "zero_twentyone_transformer = Pipeline(steps=[\n",
    "    (\"imputer\", IterativeImputer(missing_values=-1, max_iter=max_iterations, n_nearest_features=nearest_features, initial_strategy=category_initial_strategy, min_value=0, max_value=21)),\n",
    "    (\"onehot\", OneHotEncoder(drop=\"first\", sparse=sparse_bool))\n",
    "])\n",
    "\n",
    "\n",
    "# Create the preprocessor column transformer\n",
    "preprocessor = ColumnTransformer(\n",
    "    transformers=[\n",
    "        (\"BYHMWRK\", BYHMWRK_transformer, BYHMWRK_feature),\n",
    "        (\"F1RGPP2\", F1RGPP2_transformer, F1RGPP2_feature),\n",
    "        (\"zero_one\", zero_one_transformer, zero_one_features),\n",
    "        (\"one_two\", one_two_transformer, one_two_features),\n",
    "        (\"one_three\", one_three_transformer, one_three_features),\n",
    "        (\"one_four\", one_four_transformer, one_four_features),\n",
    "        (\"zero_five\", zero_five_transformer, zero_five_features),\n",
    "        (\"one_five\", one_five_transformer, one_five_features),\n",
    "        (\"zero_six\", zero_six_transformer, zero_six_features),\n",
    "        (\"one_seven\", one_seven_transformer, one_seven_features),\n",
    "        (\"zero_eight\", zero_eight_transformer, zero_eight_features),\n",
    "        (\"one_eight\", one_eight_transformer, one_eight_features),\n",
    "        (\"zero_nine\", zero_nine_transformer, zero_nine_features),\n",
    "        (\"one_thirteen\", one_thirteen_transformer, one_thirteen_features),\n",
    "        (\"zero_twentyone\", zero_twentyone_transformer, zero_twentyone_features)\n",
    "    ]\n",
    ")\n",
    "\n",
    "# preprocessor = make_column_transformer(\n",
    "#     (BYHMWRK_transformer, [\"BYHMWRK\"]),\n",
    "#     (F1RGPP2_transformer, [\"F1RGPP2\"]),\n",
    "#     (zero_one_transformer, zero_one_features),\n",
    "#     (one_two_transformer, one_two_features),\n",
    "#     (one_three_transformer, one_three_features),\n",
    "#     (one_four_transformer, one_four_features),\n",
    "#     (zero_five_transformer, zero_five_features),\n",
    "#     (one_five_transformer, one_five_features),\n",
    "#     (zero_six_transformer, zero_six_features),\n",
    "#     (one_seven_transformer, one_seven_features),\n",
    "#     (zero_eight_transformer, zero_eight_features),\n",
    "#     (one_eight_transformer, one_eight_features),\n",
    "#     (zero_nine_transformer, zero_nine_features),\n",
    "#     (one_thirteen_transformer, one_thirteen_features),\n",
    "#     (zero_twentyone_transformer, zero_twentyone_features)\n",
    "# )\n",
    "\n",
    "# preprocessor = make_column_transformer(\n",
    "#     (StandardScaler(), [\"BYHMWRK\", \"F1RGPP2\"]),\n",
    "#     (OneHotEncoder(), [column for column in df.columns if column not in [\"BYHMWRK\", \"F2HSSTAT\", \"BYHMWRK\", \"F1RGPP2\"]])\n",
    "# )"
   ]
  },
  {
   "cell_type": "markdown",
   "metadata": {
    "jupyter": {
     "source_hidden": true
    }
   },
   "source": [
    "# initialize variables for imputer\n",
    "\n",
    "max_iterations = 20\n",
    "nearest_features = 5\n",
    "non_category_initial_strategy = \"median\"\n",
    "category_initial_strategy = \"most_frequent\"\n",
    "sparse_bool = False\n",
    "\n",
    "\n",
    "# Create the preprocessing pipelines for numeric data.\n",
    "\n",
    "numeric_features = [\"BYHMWRK\", \"F1RGPP2\"]\n",
    "numeric_transformer  = Pipeline(steps=[\n",
    "    (\"imputer\", SimpleImputer(strategy='median')) # IterativeImputer(missing_values=-1, max_iter=max_iterations, n_nearest_features=nearest_features, initial_strategy=non_category_initial_strategy, min_value=0, max_value=45)),\n",
    "#     (\"scaler\", StandardScaler())\n",
    "])\n",
    "\n",
    "\n",
    "# Create the preprocessing pipelines for categorical data.\n",
    "categorical_features = [\n",
    "    \"BYSEX\",\n",
    "    \"BYRACE\",\n",
    "    \"BYSTLANG\",\n",
    "    \"BYPARED\",\n",
    "    \"BYINCOME\",\n",
    "    \"BYURBAN\",\n",
    "    \"BYREGION\",\n",
    "    \"BYRISKFC\",\n",
    "    \"BYWRKHRS\",\n",
    "    \"BYS42\",\n",
    "    \"BYS43\",\n",
    "    \"BYTVVIGM\",\n",
    "    \"BYS46B\",\n",
    "    \"BYS44C\",\n",
    "    \"BYS20E\",\n",
    "    \"BYS87C\",\n",
    "    \"BYS20D\",\n",
    "    \"BYS23C\",\n",
    "    \"BYS37\",\n",
    "    \"BYS27I\",\n",
    "    \"BYS90D\",\n",
    "    \"BYS38A\",\n",
    "    \"BYS20J\",\n",
    "    \"BYS24C\",\n",
    "    \"BYS24D\",\n",
    "    \"BYS54I\",\n",
    "    \"BYS84D\",\n",
    "    \"BYS84I\",\n",
    "    \"BYS85A\",\n",
    "    \"F2HSSTAT\",\n",
    "    \"F2EVERDO\"\n",
    "    ]\n",
    "\n",
    "categorical_transformer  = Pipeline(steps=[\n",
    "    (\"imputer\", IterativeImputer(missing_values=-1, max_iter=max_iterations, n_nearest_features=nearest_features, initial_strategy=category_initial_strategy, min_value=0)),\n",
    "    (\"onehot\", OneHotEncoder(drop=\"first\", sparse=sparse_bool))\n",
    "])\n",
    "\n",
    "\n",
    "# Create the preprocessor column transformer\n",
    "preprocessor = ColumnTransformer(\n",
    "    transformers=[\n",
    "        ('num', numeric_transformer, numeric_features),\n",
    "        ('cat', categorical_transformer, categorical_features)\n",
    "    ]\n",
    ")\n",
    "\n",
    "# preprocessor = make_column_transformer(\n",
    "#     (BYHMWRK_transformer, [\"BYHMWRK\"]),\n",
    "#     (F1RGPP2_transformer, [\"F1RGPP2\"]),\n",
    "#     (zero_one_transformer, zero_one_features),\n",
    "#     (one_two_transformer, one_two_features),\n",
    "#     (one_three_transformer, one_three_features),\n",
    "#     (one_four_transformer, one_four_features),\n",
    "#     (zero_five_transformer, zero_five_features),\n",
    "#     (one_five_transformer, one_five_features),\n",
    "#     (zero_six_transformer, zero_six_features),\n",
    "#     (one_seven_transformer, one_seven_features),\n",
    "#     (zero_eight_transformer, zero_eight_features),\n",
    "#     (one_eight_transformer, one_eight_features),\n",
    "#     (zero_nine_transformer, zero_nine_features),\n",
    "#     (one_thirteen_transformer, one_thirteen_features),\n",
    "#     (zero_twentyone_transformer, zero_twentyone_features)\n",
    "# )\n",
    "\n",
    "# preprocessor = make_column_transformer(\n",
    "#     (StandardScaler(), [\"BYHMWRK\", \"F1RGPP2\"]),\n",
    "#     (OneHotEncoder(), [column for column in df.columns if column not in [\"BYHMWRK\", \"F2HSSTAT\", \"BYHMWRK\", \"F1RGPP2\"]])\n",
    "# )"
   ]
  },
  {
   "cell_type": "markdown",
   "metadata": {},
   "source": [
    "## Apply the preprocessor and Create the full prediction pipeline"
   ]
  },
  {
   "cell_type": "code",
   "execution_count": 21,
   "metadata": {},
   "outputs": [
    {
     "ename": "ValueError",
     "evalue": "Specifying the columns using strings is only supported for pandas DataFrames",
     "output_type": "error",
     "traceback": [
      "\u001b[1;31m---------------------------------------------------------------------------\u001b[0m",
      "\u001b[1;31mAttributeError\u001b[0m                            Traceback (most recent call last)",
      "\u001b[1;32m~\\.virtualenvs\\project-3-wg3CoVTm\\lib\\site-packages\\sklearn\\utils\\__init__.py\u001b[0m in \u001b[0;36m_get_column_indices\u001b[1;34m(X, key)\u001b[0m\n\u001b[0;32m    442\u001b[0m         \u001b[1;32mtry\u001b[0m\u001b[1;33m:\u001b[0m\u001b[1;33m\u001b[0m\u001b[1;33m\u001b[0m\u001b[0m\n\u001b[1;32m--> 443\u001b[1;33m             \u001b[0mall_columns\u001b[0m \u001b[1;33m=\u001b[0m \u001b[0mlist\u001b[0m\u001b[1;33m(\u001b[0m\u001b[0mX\u001b[0m\u001b[1;33m.\u001b[0m\u001b[0mcolumns\u001b[0m\u001b[1;33m)\u001b[0m\u001b[1;33m\u001b[0m\u001b[1;33m\u001b[0m\u001b[0m\n\u001b[0m\u001b[0;32m    444\u001b[0m         \u001b[1;32mexcept\u001b[0m \u001b[0mAttributeError\u001b[0m\u001b[1;33m:\u001b[0m\u001b[1;33m\u001b[0m\u001b[1;33m\u001b[0m\u001b[0m\n",
      "\u001b[1;31mAttributeError\u001b[0m: 'numpy.ndarray' object has no attribute 'columns'",
      "\nDuring handling of the above exception, another exception occurred:\n",
      "\u001b[1;31mValueError\u001b[0m                                Traceback (most recent call last)",
      "\u001b[1;32m<ipython-input-21-3901679c5eba>\u001b[0m in \u001b[0;36m<module>\u001b[1;34m\u001b[0m\n\u001b[0;32m      8\u001b[0m \u001b[0my_train\u001b[0m\u001b[1;33m.\u001b[0m\u001b[0mshape\u001b[0m\u001b[1;33m\u001b[0m\u001b[1;33m\u001b[0m\u001b[0m\n\u001b[0;32m      9\u001b[0m \u001b[1;33m\u001b[0m\u001b[0m\n\u001b[1;32m---> 10\u001b[1;33m \u001b[0mclf\u001b[0m\u001b[1;33m.\u001b[0m\u001b[0mfit\u001b[0m\u001b[1;33m(\u001b[0m\u001b[0mX_train\u001b[0m\u001b[1;33m,\u001b[0m \u001b[0my_train\u001b[0m\u001b[1;33m)\u001b[0m\u001b[1;33m\u001b[0m\u001b[1;33m\u001b[0m\u001b[0m\n\u001b[0m\u001b[0;32m     11\u001b[0m \u001b[0mprint\u001b[0m\u001b[1;33m(\u001b[0m\u001b[1;34m\"model score: %.3f\"\u001b[0m \u001b[1;33m%\u001b[0m \u001b[0mclf\u001b[0m\u001b[1;33m.\u001b[0m\u001b[0mscore\u001b[0m\u001b[1;33m(\u001b[0m\u001b[0mX_test\u001b[0m\u001b[1;33m,\u001b[0m \u001b[0my_test\u001b[0m\u001b[1;33m)\u001b[0m\u001b[1;33m)\u001b[0m\u001b[1;33m\u001b[0m\u001b[1;33m\u001b[0m\u001b[0m\n",
      "\u001b[1;32m~\\.virtualenvs\\project-3-wg3CoVTm\\lib\\site-packages\\sklearn\\pipeline.py\u001b[0m in \u001b[0;36mfit\u001b[1;34m(self, X, y, **fit_params)\u001b[0m\n\u001b[0;32m    348\u001b[0m             \u001b[0mThis\u001b[0m \u001b[0mestimator\u001b[0m\u001b[1;33m\u001b[0m\u001b[1;33m\u001b[0m\u001b[0m\n\u001b[0;32m    349\u001b[0m         \"\"\"\n\u001b[1;32m--> 350\u001b[1;33m         \u001b[0mXt\u001b[0m\u001b[1;33m,\u001b[0m \u001b[0mfit_params\u001b[0m \u001b[1;33m=\u001b[0m \u001b[0mself\u001b[0m\u001b[1;33m.\u001b[0m\u001b[0m_fit\u001b[0m\u001b[1;33m(\u001b[0m\u001b[0mX\u001b[0m\u001b[1;33m,\u001b[0m \u001b[0my\u001b[0m\u001b[1;33m,\u001b[0m \u001b[1;33m**\u001b[0m\u001b[0mfit_params\u001b[0m\u001b[1;33m)\u001b[0m\u001b[1;33m\u001b[0m\u001b[1;33m\u001b[0m\u001b[0m\n\u001b[0m\u001b[0;32m    351\u001b[0m         with _print_elapsed_time('Pipeline',\n\u001b[0;32m    352\u001b[0m                                  self._log_message(len(self.steps) - 1)):\n",
      "\u001b[1;32m~\\.virtualenvs\\project-3-wg3CoVTm\\lib\\site-packages\\sklearn\\pipeline.py\u001b[0m in \u001b[0;36m_fit\u001b[1;34m(self, X, y, **fit_params)\u001b[0m\n\u001b[0;32m    313\u001b[0m                 \u001b[0mmessage_clsname\u001b[0m\u001b[1;33m=\u001b[0m\u001b[1;34m'Pipeline'\u001b[0m\u001b[1;33m,\u001b[0m\u001b[1;33m\u001b[0m\u001b[1;33m\u001b[0m\u001b[0m\n\u001b[0;32m    314\u001b[0m                 \u001b[0mmessage\u001b[0m\u001b[1;33m=\u001b[0m\u001b[0mself\u001b[0m\u001b[1;33m.\u001b[0m\u001b[0m_log_message\u001b[0m\u001b[1;33m(\u001b[0m\u001b[0mstep_idx\u001b[0m\u001b[1;33m)\u001b[0m\u001b[1;33m,\u001b[0m\u001b[1;33m\u001b[0m\u001b[1;33m\u001b[0m\u001b[0m\n\u001b[1;32m--> 315\u001b[1;33m                 **fit_params_steps[name])\n\u001b[0m\u001b[0;32m    316\u001b[0m             \u001b[1;31m# Replace the transformer of the step with the fitted\u001b[0m\u001b[1;33m\u001b[0m\u001b[1;33m\u001b[0m\u001b[1;33m\u001b[0m\u001b[0m\n\u001b[0;32m    317\u001b[0m             \u001b[1;31m# transformer. This is necessary when loading the transformer\u001b[0m\u001b[1;33m\u001b[0m\u001b[1;33m\u001b[0m\u001b[1;33m\u001b[0m\u001b[0m\n",
      "\u001b[1;32m~\\.virtualenvs\\project-3-wg3CoVTm\\lib\\site-packages\\joblib\\memory.py\u001b[0m in \u001b[0;36m__call__\u001b[1;34m(self, *args, **kwargs)\u001b[0m\n\u001b[0;32m    353\u001b[0m \u001b[1;33m\u001b[0m\u001b[0m\n\u001b[0;32m    354\u001b[0m     \u001b[1;32mdef\u001b[0m \u001b[0m__call__\u001b[0m\u001b[1;33m(\u001b[0m\u001b[0mself\u001b[0m\u001b[1;33m,\u001b[0m \u001b[1;33m*\u001b[0m\u001b[0margs\u001b[0m\u001b[1;33m,\u001b[0m \u001b[1;33m**\u001b[0m\u001b[0mkwargs\u001b[0m\u001b[1;33m)\u001b[0m\u001b[1;33m:\u001b[0m\u001b[1;33m\u001b[0m\u001b[1;33m\u001b[0m\u001b[0m\n\u001b[1;32m--> 355\u001b[1;33m         \u001b[1;32mreturn\u001b[0m \u001b[0mself\u001b[0m\u001b[1;33m.\u001b[0m\u001b[0mfunc\u001b[0m\u001b[1;33m(\u001b[0m\u001b[1;33m*\u001b[0m\u001b[0margs\u001b[0m\u001b[1;33m,\u001b[0m \u001b[1;33m**\u001b[0m\u001b[0mkwargs\u001b[0m\u001b[1;33m)\u001b[0m\u001b[1;33m\u001b[0m\u001b[1;33m\u001b[0m\u001b[0m\n\u001b[0m\u001b[0;32m    356\u001b[0m \u001b[1;33m\u001b[0m\u001b[0m\n\u001b[0;32m    357\u001b[0m     \u001b[1;32mdef\u001b[0m \u001b[0mcall_and_shelve\u001b[0m\u001b[1;33m(\u001b[0m\u001b[0mself\u001b[0m\u001b[1;33m,\u001b[0m \u001b[1;33m*\u001b[0m\u001b[0margs\u001b[0m\u001b[1;33m,\u001b[0m \u001b[1;33m**\u001b[0m\u001b[0mkwargs\u001b[0m\u001b[1;33m)\u001b[0m\u001b[1;33m:\u001b[0m\u001b[1;33m\u001b[0m\u001b[1;33m\u001b[0m\u001b[0m\n",
      "\u001b[1;32m~\\.virtualenvs\\project-3-wg3CoVTm\\lib\\site-packages\\sklearn\\pipeline.py\u001b[0m in \u001b[0;36m_fit_transform_one\u001b[1;34m(transformer, X, y, weight, message_clsname, message, **fit_params)\u001b[0m\n\u001b[0;32m    726\u001b[0m     \u001b[1;32mwith\u001b[0m \u001b[0m_print_elapsed_time\u001b[0m\u001b[1;33m(\u001b[0m\u001b[0mmessage_clsname\u001b[0m\u001b[1;33m,\u001b[0m \u001b[0mmessage\u001b[0m\u001b[1;33m)\u001b[0m\u001b[1;33m:\u001b[0m\u001b[1;33m\u001b[0m\u001b[1;33m\u001b[0m\u001b[0m\n\u001b[0;32m    727\u001b[0m         \u001b[1;32mif\u001b[0m \u001b[0mhasattr\u001b[0m\u001b[1;33m(\u001b[0m\u001b[0mtransformer\u001b[0m\u001b[1;33m,\u001b[0m \u001b[1;34m'fit_transform'\u001b[0m\u001b[1;33m)\u001b[0m\u001b[1;33m:\u001b[0m\u001b[1;33m\u001b[0m\u001b[1;33m\u001b[0m\u001b[0m\n\u001b[1;32m--> 728\u001b[1;33m             \u001b[0mres\u001b[0m \u001b[1;33m=\u001b[0m \u001b[0mtransformer\u001b[0m\u001b[1;33m.\u001b[0m\u001b[0mfit_transform\u001b[0m\u001b[1;33m(\u001b[0m\u001b[0mX\u001b[0m\u001b[1;33m,\u001b[0m \u001b[0my\u001b[0m\u001b[1;33m,\u001b[0m \u001b[1;33m**\u001b[0m\u001b[0mfit_params\u001b[0m\u001b[1;33m)\u001b[0m\u001b[1;33m\u001b[0m\u001b[1;33m\u001b[0m\u001b[0m\n\u001b[0m\u001b[0;32m    729\u001b[0m         \u001b[1;32melse\u001b[0m\u001b[1;33m:\u001b[0m\u001b[1;33m\u001b[0m\u001b[1;33m\u001b[0m\u001b[0m\n\u001b[0;32m    730\u001b[0m             \u001b[0mres\u001b[0m \u001b[1;33m=\u001b[0m \u001b[0mtransformer\u001b[0m\u001b[1;33m.\u001b[0m\u001b[0mfit\u001b[0m\u001b[1;33m(\u001b[0m\u001b[0mX\u001b[0m\u001b[1;33m,\u001b[0m \u001b[0my\u001b[0m\u001b[1;33m,\u001b[0m \u001b[1;33m**\u001b[0m\u001b[0mfit_params\u001b[0m\u001b[1;33m)\u001b[0m\u001b[1;33m.\u001b[0m\u001b[0mtransform\u001b[0m\u001b[1;33m(\u001b[0m\u001b[0mX\u001b[0m\u001b[1;33m)\u001b[0m\u001b[1;33m\u001b[0m\u001b[1;33m\u001b[0m\u001b[0m\n",
      "\u001b[1;32m~\\.virtualenvs\\project-3-wg3CoVTm\\lib\\site-packages\\sklearn\\compose\\_column_transformer.py\u001b[0m in \u001b[0;36mfit_transform\u001b[1;34m(self, X, y)\u001b[0m\n\u001b[0;32m    514\u001b[0m         \u001b[0mself\u001b[0m\u001b[1;33m.\u001b[0m\u001b[0m_validate_transformers\u001b[0m\u001b[1;33m(\u001b[0m\u001b[1;33m)\u001b[0m\u001b[1;33m\u001b[0m\u001b[1;33m\u001b[0m\u001b[0m\n\u001b[0;32m    515\u001b[0m         \u001b[0mself\u001b[0m\u001b[1;33m.\u001b[0m\u001b[0m_validate_column_callables\u001b[0m\u001b[1;33m(\u001b[0m\u001b[0mX\u001b[0m\u001b[1;33m)\u001b[0m\u001b[1;33m\u001b[0m\u001b[1;33m\u001b[0m\u001b[0m\n\u001b[1;32m--> 516\u001b[1;33m         \u001b[0mself\u001b[0m\u001b[1;33m.\u001b[0m\u001b[0m_validate_remainder\u001b[0m\u001b[1;33m(\u001b[0m\u001b[0mX\u001b[0m\u001b[1;33m)\u001b[0m\u001b[1;33m\u001b[0m\u001b[1;33m\u001b[0m\u001b[0m\n\u001b[0m\u001b[0;32m    517\u001b[0m \u001b[1;33m\u001b[0m\u001b[0m\n\u001b[0;32m    518\u001b[0m         \u001b[0mresult\u001b[0m \u001b[1;33m=\u001b[0m \u001b[0mself\u001b[0m\u001b[1;33m.\u001b[0m\u001b[0m_fit_transform\u001b[0m\u001b[1;33m(\u001b[0m\u001b[0mX\u001b[0m\u001b[1;33m,\u001b[0m \u001b[0my\u001b[0m\u001b[1;33m,\u001b[0m \u001b[0m_fit_transform_one\u001b[0m\u001b[1;33m)\u001b[0m\u001b[1;33m\u001b[0m\u001b[1;33m\u001b[0m\u001b[0m\n",
      "\u001b[1;32m~\\.virtualenvs\\project-3-wg3CoVTm\\lib\\site-packages\\sklearn\\compose\\_column_transformer.py\u001b[0m in \u001b[0;36m_validate_remainder\u001b[1;34m(self, X)\u001b[0m\n\u001b[0;32m    322\u001b[0m         \u001b[0mcols\u001b[0m \u001b[1;33m=\u001b[0m \u001b[1;33m[\u001b[0m\u001b[1;33m]\u001b[0m\u001b[1;33m\u001b[0m\u001b[1;33m\u001b[0m\u001b[0m\n\u001b[0;32m    323\u001b[0m         \u001b[1;32mfor\u001b[0m \u001b[0mcolumns\u001b[0m \u001b[1;32min\u001b[0m \u001b[0mself\u001b[0m\u001b[1;33m.\u001b[0m\u001b[0m_columns\u001b[0m\u001b[1;33m:\u001b[0m\u001b[1;33m\u001b[0m\u001b[1;33m\u001b[0m\u001b[0m\n\u001b[1;32m--> 324\u001b[1;33m             \u001b[0mcols\u001b[0m\u001b[1;33m.\u001b[0m\u001b[0mextend\u001b[0m\u001b[1;33m(\u001b[0m\u001b[0m_get_column_indices\u001b[0m\u001b[1;33m(\u001b[0m\u001b[0mX\u001b[0m\u001b[1;33m,\u001b[0m \u001b[0mcolumns\u001b[0m\u001b[1;33m)\u001b[0m\u001b[1;33m)\u001b[0m\u001b[1;33m\u001b[0m\u001b[1;33m\u001b[0m\u001b[0m\n\u001b[0m\u001b[0;32m    325\u001b[0m         \u001b[0mremaining_idx\u001b[0m \u001b[1;33m=\u001b[0m \u001b[0mlist\u001b[0m\u001b[1;33m(\u001b[0m\u001b[0mset\u001b[0m\u001b[1;33m(\u001b[0m\u001b[0mrange\u001b[0m\u001b[1;33m(\u001b[0m\u001b[0mself\u001b[0m\u001b[1;33m.\u001b[0m\u001b[0m_n_features\u001b[0m\u001b[1;33m)\u001b[0m\u001b[1;33m)\u001b[0m \u001b[1;33m-\u001b[0m \u001b[0mset\u001b[0m\u001b[1;33m(\u001b[0m\u001b[0mcols\u001b[0m\u001b[1;33m)\u001b[0m\u001b[1;33m)\u001b[0m\u001b[1;33m\u001b[0m\u001b[1;33m\u001b[0m\u001b[0m\n\u001b[0;32m    326\u001b[0m         \u001b[0mremaining_idx\u001b[0m \u001b[1;33m=\u001b[0m \u001b[0msorted\u001b[0m\u001b[1;33m(\u001b[0m\u001b[0mremaining_idx\u001b[0m\u001b[1;33m)\u001b[0m \u001b[1;32mor\u001b[0m \u001b[1;32mNone\u001b[0m\u001b[1;33m\u001b[0m\u001b[1;33m\u001b[0m\u001b[0m\n",
      "\u001b[1;32m~\\.virtualenvs\\project-3-wg3CoVTm\\lib\\site-packages\\sklearn\\utils\\__init__.py\u001b[0m in \u001b[0;36m_get_column_indices\u001b[1;34m(X, key)\u001b[0m\n\u001b[0;32m    443\u001b[0m             \u001b[0mall_columns\u001b[0m \u001b[1;33m=\u001b[0m \u001b[0mlist\u001b[0m\u001b[1;33m(\u001b[0m\u001b[0mX\u001b[0m\u001b[1;33m.\u001b[0m\u001b[0mcolumns\u001b[0m\u001b[1;33m)\u001b[0m\u001b[1;33m\u001b[0m\u001b[1;33m\u001b[0m\u001b[0m\n\u001b[0;32m    444\u001b[0m         \u001b[1;32mexcept\u001b[0m \u001b[0mAttributeError\u001b[0m\u001b[1;33m:\u001b[0m\u001b[1;33m\u001b[0m\u001b[1;33m\u001b[0m\u001b[0m\n\u001b[1;32m--> 445\u001b[1;33m             raise ValueError(\"Specifying the columns using strings is only \"\n\u001b[0m\u001b[0;32m    446\u001b[0m                              \"supported for pandas DataFrames\")\n\u001b[0;32m    447\u001b[0m         \u001b[1;32mif\u001b[0m \u001b[0misinstance\u001b[0m\u001b[1;33m(\u001b[0m\u001b[0mkey\u001b[0m\u001b[1;33m,\u001b[0m \u001b[0mstr\u001b[0m\u001b[1;33m)\u001b[0m\u001b[1;33m:\u001b[0m\u001b[1;33m\u001b[0m\u001b[1;33m\u001b[0m\u001b[0m\n",
      "\u001b[1;31mValueError\u001b[0m: Specifying the columns using strings is only supported for pandas DataFrames"
     ]
    }
   ],
   "source": [
    "clf = Pipeline(steps=[\n",
    "    ('preprocessor', preprocessor),\n",
    "    ('classifier', LogisticRegression())\n",
    "])\n",
    "\n",
    "X_train, X_test, y_train, y_test = train_test_split(X, y, test_size=0.2)\n",
    "\n",
    "y_train.shape\n",
    "\n",
    "clf.fit(X_train, y_train)\n",
    "print(\"model score: %.3f\" % clf.score(X_test, y_test))"
   ]
  },
  {
   "cell_type": "code",
   "execution_count": 29,
   "metadata": {},
   "outputs": [
    {
     "data": {
      "text/plain": [
       "-1.4456114146808647"
      ]
     },
     "execution_count": 29,
     "metadata": {},
     "output_type": "execute_result"
    }
   ],
   "source": [
    "## Null Model\n",
    "dr = DummyRegressor()\n",
    "cross_validate(dr, X, y, scoring=\"neg_mean_squared_error\")[\"test_score\"].mean()"
   ]
  },
  {
   "cell_type": "code",
   "execution_count": null,
   "metadata": {},
   "outputs": [],
   "source": []
  },
  {
   "cell_type": "code",
   "execution_count": null,
   "metadata": {},
   "outputs": [],
   "source": []
  },
  {
   "cell_type": "code",
   "execution_count": null,
   "metadata": {},
   "outputs": [],
   "source": []
  },
  {
   "cell_type": "code",
   "execution_count": null,
   "metadata": {},
   "outputs": [],
   "source": []
  },
  {
   "cell_type": "code",
   "execution_count": null,
   "metadata": {},
   "outputs": [],
   "source": []
  },
  {
   "cell_type": "code",
   "execution_count": null,
   "metadata": {},
   "outputs": [],
   "source": []
  },
  {
   "cell_type": "code",
   "execution_count": null,
   "metadata": {},
   "outputs": [],
   "source": []
  },
  {
   "cell_type": "code",
   "execution_count": null,
   "metadata": {},
   "outputs": [],
   "source": []
  },
  {
   "cell_type": "code",
   "execution_count": 21,
   "metadata": {
    "collapsed": true,
    "jupyter": {
     "outputs_hidden": true
    }
   },
   "outputs": [
    {
     "name": "stderr",
     "output_type": "stream",
     "text": [
      "C:\\Users\\ybholat\\Desktop\\bash_home\\.virtualenvs\\project-3-wg3CoVTm\\lib\\site-packages\\sklearn\\model_selection\\_validation.py:536: FitFailedWarning: Estimator fit failed. The score on this train-test partition for these parameters will be set to nan. Details: \n",
      "ValueError: bad input shape (12957, 3)\n",
      "\n",
      "  FitFailedWarning)\n",
      "C:\\Users\\ybholat\\Desktop\\bash_home\\.virtualenvs\\project-3-wg3CoVTm\\lib\\site-packages\\sklearn\\model_selection\\_validation.py:536: FitFailedWarning: Estimator fit failed. The score on this train-test partition for these parameters will be set to nan. Details: \n",
      "ValueError: bad input shape (12957, 3)\n",
      "\n",
      "  FitFailedWarning)\n",
      "C:\\Users\\ybholat\\Desktop\\bash_home\\.virtualenvs\\project-3-wg3CoVTm\\lib\\site-packages\\sklearn\\model_selection\\_validation.py:536: FitFailedWarning: Estimator fit failed. The score on this train-test partition for these parameters will be set to nan. Details: \n",
      "ValueError: bad input shape (12958, 3)\n",
      "\n",
      "  FitFailedWarning)\n",
      "C:\\Users\\ybholat\\Desktop\\bash_home\\.virtualenvs\\project-3-wg3CoVTm\\lib\\site-packages\\sklearn\\model_selection\\_validation.py:536: FitFailedWarning: Estimator fit failed. The score on this train-test partition for these parameters will be set to nan. Details: \n",
      "ValueError: bad input shape (12958, 3)\n",
      "\n",
      "  FitFailedWarning)\n",
      "C:\\Users\\ybholat\\Desktop\\bash_home\\.virtualenvs\\project-3-wg3CoVTm\\lib\\site-packages\\sklearn\\model_selection\\_validation.py:536: FitFailedWarning: Estimator fit failed. The score on this train-test partition for these parameters will be set to nan. Details: \n",
      "ValueError: bad input shape (12958, 3)\n",
      "\n",
      "  FitFailedWarning)\n"
     ]
    },
    {
     "data": {
      "text/plain": [
       "nan"
      ]
     },
     "execution_count": 21,
     "metadata": {},
     "output_type": "execute_result"
    }
   ],
   "source": [
    "## Logistic Regression\n",
    "lr = LogisticRegression()\n",
    "cross_validate(lr, X, y, scoring=\"neg_mean_squared_error\")[\"test_score\"].mean()"
   ]
  },
  {
   "cell_type": "code",
   "execution_count": 7,
   "metadata": {},
   "outputs": [
    {
     "data": {
      "text/plain": [
       "-1.1274961750631853"
      ]
     },
     "execution_count": 7,
     "metadata": {},
     "output_type": "execute_result"
    }
   ],
   "source": [
    "## Linear Regression\n",
    "lr = LinearRegression()\n",
    "cross_validate(lr, X, y, scoring=\"neg_mean_squared_error\")[\"test_score\"].mean()"
   ]
  },
  {
   "cell_type": "code",
   "execution_count": 10,
   "metadata": {},
   "outputs": [
    {
     "data": {
      "text/plain": [
       "-1.33907038114679"
      ]
     },
     "execution_count": 10,
     "metadata": {},
     "output_type": "execute_result"
    }
   ],
   "source": [
    "## PCA\n",
    "pca_regression = make_pipeline(\n",
    "    PCA(3),\n",
    "    LinearRegression()\n",
    ")\n",
    "cross_validate(pca_regression, X, y, scoring=\"neg_mean_squared_error\")[\"test_score\"].mean()"
   ]
  },
  {
   "cell_type": "code",
   "execution_count": 11,
   "metadata": {},
   "outputs": [
    {
     "data": {
      "text/plain": [
       "-1.1298758698157534"
      ]
     },
     "execution_count": 11,
     "metadata": {},
     "output_type": "execute_result"
    }
   ],
   "source": [
    "## Lasso Regression\n",
    "lasso = MultiTaskLassoCV()\n",
    "cross_validate(lasso, X, y, scoring=\"neg_mean_squared_error\")[\"test_score\"].mean()"
   ]
  },
  {
   "cell_type": "code",
   "execution_count": 12,
   "metadata": {},
   "outputs": [
    {
     "data": {
      "text/plain": [
       "-1.1293678080033718"
      ]
     },
     "execution_count": 12,
     "metadata": {},
     "output_type": "execute_result"
    }
   ],
   "source": [
    "## Lasso Regression\n",
    "lasso_scaled = make_pipeline(StandardScaler(), MultiTaskLassoCV())\n",
    "cross_validate(lasso_scaled, X, y, scoring=\"neg_mean_squared_error\")[\"test_score\"].mean()"
   ]
  },
  {
   "cell_type": "code",
   "execution_count": 8,
   "metadata": {},
   "outputs": [
    {
     "data": {
      "text/plain": [
       "-2.220596736545072"
      ]
     },
     "execution_count": 8,
     "metadata": {},
     "output_type": "execute_result"
    }
   ],
   "source": [
    "## Decision Tree\n",
    "dt = DecisionTreeRegressor()\n",
    "cross_validate(dt, X, y, scoring=\"neg_mean_squared_error\")[\"test_score\"].mean()"
   ]
  },
  {
   "cell_type": "code",
   "execution_count": 9,
   "metadata": {},
   "outputs": [
    {
     "data": {
      "text/plain": [
       "-1.1414634681438707"
      ]
     },
     "execution_count": 9,
     "metadata": {},
     "output_type": "execute_result"
    }
   ],
   "source": [
    "## Random Forest\n",
    "rf = RandomForestRegressor()\n",
    "cross_validate(rf, X, y, scoring=\"neg_mean_squared_error\")[\"test_score\"].mean()"
   ]
  },
  {
   "cell_type": "code",
   "execution_count": null,
   "metadata": {},
   "outputs": [],
   "source": []
  },
  {
   "cell_type": "code",
   "execution_count": null,
   "metadata": {},
   "outputs": [],
   "source": []
  },
  {
   "cell_type": "code",
   "execution_count": null,
   "metadata": {},
   "outputs": [],
   "source": []
  },
  {
   "cell_type": "code",
   "execution_count": null,
   "metadata": {},
   "outputs": [],
   "source": []
  },
  {
   "cell_type": "code",
   "execution_count": null,
   "metadata": {},
   "outputs": [],
   "source": []
  },
  {
   "cell_type": "code",
   "execution_count": null,
   "metadata": {},
   "outputs": [],
   "source": []
  },
  {
   "cell_type": "code",
   "execution_count": null,
   "metadata": {},
   "outputs": [],
   "source": []
  }
 ],
 "metadata": {
  "kernelspec": {
   "display_name": "project-3",
   "language": "python",
   "name": "project-3"
  },
  "language_info": {
   "codemirror_mode": {
    "name": "ipython",
    "version": 3
   },
   "file_extension": ".py",
   "mimetype": "text/x-python",
   "name": "python",
   "nbconvert_exporter": "python",
   "pygments_lexer": "ipython3",
   "version": "3.7.5"
  }
 },
 "nbformat": 4,
 "nbformat_minor": 4
}
